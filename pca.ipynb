{
 "cells": [
  {
   "cell_type": "code",
   "execution_count": 119,
   "metadata": {
    "collapsed": true
   },
   "outputs": [],
   "source": [
    "import pandas as pd\n",
    "import numpy as np\n",
    "import matplotlib.pyplot as plt"
   ]
  },
  {
   "cell_type": "markdown",
   "metadata": {},
   "source": [
    "# IMPUTATION"
   ]
  },
  {
   "cell_type": "code",
   "execution_count": 120,
   "metadata": {},
   "outputs": [
    {
     "data": {
      "text/html": [
       "<div>\n",
       "<table border=\"1\" class=\"dataframe\">\n",
       "  <thead>\n",
       "    <tr style=\"text-align: right;\">\n",
       "      <th></th>\n",
       "      <th>Latitude</th>\n",
       "      <th>Longitude</th>\n",
       "      <th>Absolute elevation</th>\n",
       "      <th>Distance from Coast</th>\n",
       "      <th>AP1</th>\n",
       "      <th>AP2</th>\n",
       "      <th>DT1</th>\n",
       "      <th>DT2</th>\n",
       "      <th>HTM</th>\n",
       "      <th>LTM</th>\n",
       "      <th>AC1</th>\n",
       "      <th>AC2</th>\n",
       "      <th>LC1</th>\n",
       "      <th>LC2</th>\n",
       "      <th>RFL</th>\n",
       "      <th>RH1</th>\n",
       "      <th>RH2</th>\n",
       "      <th>WSD</th>\n",
       "    </tr>\n",
       "  </thead>\n",
       "  <tbody>\n",
       "    <tr>\n",
       "      <th>0</th>\n",
       "      <td>24.60</td>\n",
       "      <td>72.72</td>\n",
       "      <td>1195.0</td>\n",
       "      <td>253.94</td>\n",
       "      <td>NaN</td>\n",
       "      <td>NaN</td>\n",
       "      <td>8.7</td>\n",
       "      <td>16.3</td>\n",
       "      <td>23.4</td>\n",
       "      <td>-0.7</td>\n",
       "      <td>0.8</td>\n",
       "      <td>1.0</td>\n",
       "      <td>0.4</td>\n",
       "      <td>0.5</td>\n",
       "      <td>3.7</td>\n",
       "      <td>61.0</td>\n",
       "      <td>42.0</td>\n",
       "      <td>2.0</td>\n",
       "    </tr>\n",
       "    <tr>\n",
       "      <th>1</th>\n",
       "      <td>10.33</td>\n",
       "      <td>79.38</td>\n",
       "      <td>6.0</td>\n",
       "      <td>2.56</td>\n",
       "      <td>1013.9</td>\n",
       "      <td>1010.4</td>\n",
       "      <td>23.5</td>\n",
       "      <td>27.1</td>\n",
       "      <td>31.9</td>\n",
       "      <td>18.2</td>\n",
       "      <td>3.2</td>\n",
       "      <td>3.4</td>\n",
       "      <td>1.3</td>\n",
       "      <td>1.4</td>\n",
       "      <td>34.5</td>\n",
       "      <td>87.0</td>\n",
       "      <td>70.0</td>\n",
       "      <td>6.7</td>\n",
       "    </tr>\n",
       "    <tr>\n",
       "      <th>2</th>\n",
       "      <td>23.88</td>\n",
       "      <td>91.25</td>\n",
       "      <td>16.0</td>\n",
       "      <td>124.39</td>\n",
       "      <td>1015.2</td>\n",
       "      <td>1011.8</td>\n",
       "      <td>16.8</td>\n",
       "      <td>16.5</td>\n",
       "      <td>28.8</td>\n",
       "      <td>6.4</td>\n",
       "      <td>1.5</td>\n",
       "      <td>1.5</td>\n",
       "      <td>0.4</td>\n",
       "      <td>0.3</td>\n",
       "      <td>5.6</td>\n",
       "      <td>81.0</td>\n",
       "      <td>66.0</td>\n",
       "      <td>2.3</td>\n",
       "    </tr>\n",
       "    <tr>\n",
       "      <th>3</th>\n",
       "      <td>10.85</td>\n",
       "      <td>72.47</td>\n",
       "      <td>4.0</td>\n",
       "      <td>0.00</td>\n",
       "      <td>1012.3</td>\n",
       "      <td>1009.5</td>\n",
       "      <td>26.2</td>\n",
       "      <td>28.7</td>\n",
       "      <td>32.0</td>\n",
       "      <td>22.2</td>\n",
       "      <td>3.1</td>\n",
       "      <td>3.9</td>\n",
       "      <td>2.5</td>\n",
       "      <td>2.9</td>\n",
       "      <td>5.0</td>\n",
       "      <td>81.0</td>\n",
       "      <td>71.0</td>\n",
       "      <td>NaN</td>\n",
       "    </tr>\n",
       "    <tr>\n",
       "      <th>4</th>\n",
       "      <td>27.17</td>\n",
       "      <td>78.03</td>\n",
       "      <td>169.0</td>\n",
       "      <td>751.48</td>\n",
       "      <td>997.0</td>\n",
       "      <td>995.2</td>\n",
       "      <td>10.7</td>\n",
       "      <td>19.8</td>\n",
       "      <td>27.3</td>\n",
       "      <td>4.2</td>\n",
       "      <td>1.3</td>\n",
       "      <td>1.6</td>\n",
       "      <td>0.4</td>\n",
       "      <td>0.4</td>\n",
       "      <td>9.5</td>\n",
       "      <td>77.0</td>\n",
       "      <td>55.0</td>\n",
       "      <td>1.9</td>\n",
       "    </tr>\n",
       "  </tbody>\n",
       "</table>\n",
       "</div>"
      ],
      "text/plain": [
       "   Latitude  Longitude  Absolute elevation  Distance from Coast     AP1  \\\n",
       "0     24.60      72.72              1195.0               253.94     NaN   \n",
       "1     10.33      79.38                 6.0                 2.56  1013.9   \n",
       "2     23.88      91.25                16.0               124.39  1015.2   \n",
       "3     10.85      72.47                 4.0                 0.00  1012.3   \n",
       "4     27.17      78.03               169.0               751.48   997.0   \n",
       "\n",
       "      AP2   DT1   DT2   HTM   LTM  AC1  AC2  LC1  LC2   RFL   RH1   RH2  WSD  \n",
       "0     NaN   8.7  16.3  23.4  -0.7  0.8  1.0  0.4  0.5   3.7  61.0  42.0  2.0  \n",
       "1  1010.4  23.5  27.1  31.9  18.2  3.2  3.4  1.3  1.4  34.5  87.0  70.0  6.7  \n",
       "2  1011.8  16.8  16.5  28.8   6.4  1.5  1.5  0.4  0.3   5.6  81.0  66.0  2.3  \n",
       "3  1009.5  26.2  28.7  32.0  22.2  3.1  3.9  2.5  2.9   5.0  81.0  71.0  NaN  \n",
       "4   995.2  10.7  19.8  27.3   4.2  1.3  1.6  0.4  0.4   9.5  77.0  55.0  1.9  "
      ]
     },
     "execution_count": 120,
     "metadata": {},
     "output_type": "execute_result"
    }
   ],
   "source": [
    "df = pd.read_csv('Database_for_dimensionality_reduction.csv')\n",
    "dfcopy = df.copy()\n",
    "dfcopy1= df.select_dtypes(include=[np.number])\n",
    "dfcopy1.head()\n",
    "#df.columns[2]"
   ]
  },
  {
   "cell_type": "code",
   "execution_count": 121,
   "metadata": {},
   "outputs": [
    {
     "data": {
      "text/plain": [
       "(417, 18)"
      ]
     },
     "execution_count": 121,
     "metadata": {},
     "output_type": "execute_result"
    }
   ],
   "source": [
    "dfcopy1.shape"
   ]
  },
  {
   "cell_type": "code",
   "execution_count": 122,
   "metadata": {},
   "outputs": [
    {
     "data": {
      "text/plain": [
       "Latitude                0\n",
       "Longitude               0\n",
       "Absolute elevation      0\n",
       "Distance from Coast     0\n",
       "AP1                    31\n",
       "AP2                    45\n",
       "DT1                     1\n",
       "DT2                    16\n",
       "HTM                     4\n",
       "LTM                     7\n",
       "AC1                    32\n",
       "AC2                    48\n",
       "LC1                    34\n",
       "LC2                    48\n",
       "RFL                     1\n",
       "RH1                     2\n",
       "RH2                    16\n",
       "WSD                    78\n",
       "dtype: int64"
      ]
     },
     "execution_count": 122,
     "metadata": {},
     "output_type": "execute_result"
    }
   ],
   "source": [
    "dfcopy1.isnull().sum()"
   ]
  },
  {
   "cell_type": "code",
   "execution_count": 123,
   "metadata": {
    "collapsed": true
   },
   "outputs": [],
   "source": [
    "for column in dfcopy1: \n",
    "        meani = dfcopy[column].mean()\n",
    "        dfcopy1[column].fillna(meani, inplace=True)"
   ]
  },
  {
   "cell_type": "code",
   "execution_count": 124,
   "metadata": {},
   "outputs": [
    {
     "data": {
      "text/plain": [
       "Latitude               0\n",
       "Longitude              0\n",
       "Absolute elevation     0\n",
       "Distance from Coast    0\n",
       "AP1                    0\n",
       "AP2                    0\n",
       "DT1                    0\n",
       "DT2                    0\n",
       "HTM                    0\n",
       "LTM                    0\n",
       "AC1                    0\n",
       "AC2                    0\n",
       "LC1                    0\n",
       "LC2                    0\n",
       "RFL                    0\n",
       "RH1                    0\n",
       "RH2                    0\n",
       "WSD                    0\n",
       "dtype: int64"
      ]
     },
     "execution_count": 124,
     "metadata": {},
     "output_type": "execute_result"
    }
   ],
   "source": [
    "dfcopy1.isnull().sum()"
   ]
  },
  {
   "cell_type": "code",
   "execution_count": 125,
   "metadata": {},
   "outputs": [
    {
     "data": {
      "text/html": [
       "<div>\n",
       "<table border=\"1\" class=\"dataframe\">\n",
       "  <thead>\n",
       "    <tr style=\"text-align: right;\">\n",
       "      <th></th>\n",
       "      <th>Latitude</th>\n",
       "      <th>Longitude</th>\n",
       "      <th>Absolute elevation</th>\n",
       "      <th>Distance from Coast</th>\n",
       "      <th>AP1</th>\n",
       "      <th>AP2</th>\n",
       "      <th>DT1</th>\n",
       "      <th>DT2</th>\n",
       "      <th>HTM</th>\n",
       "      <th>LTM</th>\n",
       "      <th>AC1</th>\n",
       "      <th>AC2</th>\n",
       "      <th>LC1</th>\n",
       "      <th>LC2</th>\n",
       "      <th>RFL</th>\n",
       "      <th>RH1</th>\n",
       "      <th>RH2</th>\n",
       "      <th>WSD</th>\n",
       "    </tr>\n",
       "  </thead>\n",
       "  <tbody>\n",
       "    <tr>\n",
       "      <th>0</th>\n",
       "      <td>24.60</td>\n",
       "      <td>72.72</td>\n",
       "      <td>1195.0</td>\n",
       "      <td>253.94</td>\n",
       "      <td>981.133938</td>\n",
       "      <td>978.160215</td>\n",
       "      <td>8.7</td>\n",
       "      <td>16.3</td>\n",
       "      <td>23.4</td>\n",
       "      <td>-0.7</td>\n",
       "      <td>0.8</td>\n",
       "      <td>1.0</td>\n",
       "      <td>0.4</td>\n",
       "      <td>0.5</td>\n",
       "      <td>3.7</td>\n",
       "      <td>61.0</td>\n",
       "      <td>42.0</td>\n",
       "      <td>2.00000</td>\n",
       "    </tr>\n",
       "    <tr>\n",
       "      <th>1</th>\n",
       "      <td>10.33</td>\n",
       "      <td>79.38</td>\n",
       "      <td>6.0</td>\n",
       "      <td>2.56</td>\n",
       "      <td>1013.900000</td>\n",
       "      <td>1010.400000</td>\n",
       "      <td>23.5</td>\n",
       "      <td>27.1</td>\n",
       "      <td>31.9</td>\n",
       "      <td>18.2</td>\n",
       "      <td>3.2</td>\n",
       "      <td>3.4</td>\n",
       "      <td>1.3</td>\n",
       "      <td>1.4</td>\n",
       "      <td>34.5</td>\n",
       "      <td>87.0</td>\n",
       "      <td>70.0</td>\n",
       "      <td>6.70000</td>\n",
       "    </tr>\n",
       "    <tr>\n",
       "      <th>2</th>\n",
       "      <td>23.88</td>\n",
       "      <td>91.25</td>\n",
       "      <td>16.0</td>\n",
       "      <td>124.39</td>\n",
       "      <td>1015.200000</td>\n",
       "      <td>1011.800000</td>\n",
       "      <td>16.8</td>\n",
       "      <td>16.5</td>\n",
       "      <td>28.8</td>\n",
       "      <td>6.4</td>\n",
       "      <td>1.5</td>\n",
       "      <td>1.5</td>\n",
       "      <td>0.4</td>\n",
       "      <td>0.3</td>\n",
       "      <td>5.6</td>\n",
       "      <td>81.0</td>\n",
       "      <td>66.0</td>\n",
       "      <td>2.30000</td>\n",
       "    </tr>\n",
       "    <tr>\n",
       "      <th>3</th>\n",
       "      <td>10.85</td>\n",
       "      <td>72.47</td>\n",
       "      <td>4.0</td>\n",
       "      <td>0.00</td>\n",
       "      <td>1012.300000</td>\n",
       "      <td>1009.500000</td>\n",
       "      <td>26.2</td>\n",
       "      <td>28.7</td>\n",
       "      <td>32.0</td>\n",
       "      <td>22.2</td>\n",
       "      <td>3.1</td>\n",
       "      <td>3.9</td>\n",
       "      <td>2.5</td>\n",
       "      <td>2.9</td>\n",
       "      <td>5.0</td>\n",
       "      <td>81.0</td>\n",
       "      <td>71.0</td>\n",
       "      <td>4.79115</td>\n",
       "    </tr>\n",
       "    <tr>\n",
       "      <th>4</th>\n",
       "      <td>27.17</td>\n",
       "      <td>78.03</td>\n",
       "      <td>169.0</td>\n",
       "      <td>751.48</td>\n",
       "      <td>997.000000</td>\n",
       "      <td>995.200000</td>\n",
       "      <td>10.7</td>\n",
       "      <td>19.8</td>\n",
       "      <td>27.3</td>\n",
       "      <td>4.2</td>\n",
       "      <td>1.3</td>\n",
       "      <td>1.6</td>\n",
       "      <td>0.4</td>\n",
       "      <td>0.4</td>\n",
       "      <td>9.5</td>\n",
       "      <td>77.0</td>\n",
       "      <td>55.0</td>\n",
       "      <td>1.90000</td>\n",
       "    </tr>\n",
       "  </tbody>\n",
       "</table>\n",
       "</div>"
      ],
      "text/plain": [
       "   Latitude  Longitude  Absolute elevation  Distance from Coast          AP1  \\\n",
       "0     24.60      72.72              1195.0               253.94   981.133938   \n",
       "1     10.33      79.38                 6.0                 2.56  1013.900000   \n",
       "2     23.88      91.25                16.0               124.39  1015.200000   \n",
       "3     10.85      72.47                 4.0                 0.00  1012.300000   \n",
       "4     27.17      78.03               169.0               751.48   997.000000   \n",
       "\n",
       "           AP2   DT1   DT2   HTM   LTM  AC1  AC2  LC1  LC2   RFL   RH1   RH2  \\\n",
       "0   978.160215   8.7  16.3  23.4  -0.7  0.8  1.0  0.4  0.5   3.7  61.0  42.0   \n",
       "1  1010.400000  23.5  27.1  31.9  18.2  3.2  3.4  1.3  1.4  34.5  87.0  70.0   \n",
       "2  1011.800000  16.8  16.5  28.8   6.4  1.5  1.5  0.4  0.3   5.6  81.0  66.0   \n",
       "3  1009.500000  26.2  28.7  32.0  22.2  3.1  3.9  2.5  2.9   5.0  81.0  71.0   \n",
       "4   995.200000  10.7  19.8  27.3   4.2  1.3  1.6  0.4  0.4   9.5  77.0  55.0   \n",
       "\n",
       "       WSD  \n",
       "0  2.00000  \n",
       "1  6.70000  \n",
       "2  2.30000  \n",
       "3  4.79115  \n",
       "4  1.90000  "
      ]
     },
     "execution_count": 125,
     "metadata": {},
     "output_type": "execute_result"
    }
   ],
   "source": [
    "dfcopy1.head()"
   ]
  },
  {
   "cell_type": "code",
   "execution_count": 126,
   "metadata": {
    "collapsed": true
   },
   "outputs": [],
   "source": [
    "df_act = dfcopy1[[\"AP1\",\"AP2\",\"DT1\",\"DT2\",\"HTM\",\"LTM\",\"AC1\",\"AC2\",\"LC1\",\"LC2\",\"RFL\",\"RH1\",\"RH2\",\"WSD\"]]"
   ]
  },
  {
   "cell_type": "code",
   "execution_count": 127,
   "metadata": {},
   "outputs": [
    {
     "data": {
      "text/html": [
       "<div>\n",
       "<table border=\"1\" class=\"dataframe\">\n",
       "  <thead>\n",
       "    <tr style=\"text-align: right;\">\n",
       "      <th></th>\n",
       "      <th>AP1</th>\n",
       "      <th>AP2</th>\n",
       "      <th>DT1</th>\n",
       "      <th>DT2</th>\n",
       "      <th>HTM</th>\n",
       "      <th>LTM</th>\n",
       "      <th>AC1</th>\n",
       "      <th>AC2</th>\n",
       "      <th>LC1</th>\n",
       "      <th>LC2</th>\n",
       "      <th>RFL</th>\n",
       "      <th>RH1</th>\n",
       "      <th>RH2</th>\n",
       "      <th>WSD</th>\n",
       "    </tr>\n",
       "  </thead>\n",
       "  <tbody>\n",
       "    <tr>\n",
       "      <th>0</th>\n",
       "      <td>981.133938</td>\n",
       "      <td>978.160215</td>\n",
       "      <td>8.7</td>\n",
       "      <td>16.3</td>\n",
       "      <td>23.4</td>\n",
       "      <td>-0.7</td>\n",
       "      <td>0.8</td>\n",
       "      <td>1.0</td>\n",
       "      <td>0.4</td>\n",
       "      <td>0.5</td>\n",
       "      <td>3.7</td>\n",
       "      <td>61.0</td>\n",
       "      <td>42.0</td>\n",
       "      <td>2.00000</td>\n",
       "    </tr>\n",
       "    <tr>\n",
       "      <th>1</th>\n",
       "      <td>1013.900000</td>\n",
       "      <td>1010.400000</td>\n",
       "      <td>23.5</td>\n",
       "      <td>27.1</td>\n",
       "      <td>31.9</td>\n",
       "      <td>18.2</td>\n",
       "      <td>3.2</td>\n",
       "      <td>3.4</td>\n",
       "      <td>1.3</td>\n",
       "      <td>1.4</td>\n",
       "      <td>34.5</td>\n",
       "      <td>87.0</td>\n",
       "      <td>70.0</td>\n",
       "      <td>6.70000</td>\n",
       "    </tr>\n",
       "    <tr>\n",
       "      <th>2</th>\n",
       "      <td>1015.200000</td>\n",
       "      <td>1011.800000</td>\n",
       "      <td>16.8</td>\n",
       "      <td>16.5</td>\n",
       "      <td>28.8</td>\n",
       "      <td>6.4</td>\n",
       "      <td>1.5</td>\n",
       "      <td>1.5</td>\n",
       "      <td>0.4</td>\n",
       "      <td>0.3</td>\n",
       "      <td>5.6</td>\n",
       "      <td>81.0</td>\n",
       "      <td>66.0</td>\n",
       "      <td>2.30000</td>\n",
       "    </tr>\n",
       "    <tr>\n",
       "      <th>3</th>\n",
       "      <td>1012.300000</td>\n",
       "      <td>1009.500000</td>\n",
       "      <td>26.2</td>\n",
       "      <td>28.7</td>\n",
       "      <td>32.0</td>\n",
       "      <td>22.2</td>\n",
       "      <td>3.1</td>\n",
       "      <td>3.9</td>\n",
       "      <td>2.5</td>\n",
       "      <td>2.9</td>\n",
       "      <td>5.0</td>\n",
       "      <td>81.0</td>\n",
       "      <td>71.0</td>\n",
       "      <td>4.79115</td>\n",
       "    </tr>\n",
       "    <tr>\n",
       "      <th>4</th>\n",
       "      <td>997.000000</td>\n",
       "      <td>995.200000</td>\n",
       "      <td>10.7</td>\n",
       "      <td>19.8</td>\n",
       "      <td>27.3</td>\n",
       "      <td>4.2</td>\n",
       "      <td>1.3</td>\n",
       "      <td>1.6</td>\n",
       "      <td>0.4</td>\n",
       "      <td>0.4</td>\n",
       "      <td>9.5</td>\n",
       "      <td>77.0</td>\n",
       "      <td>55.0</td>\n",
       "      <td>1.90000</td>\n",
       "    </tr>\n",
       "  </tbody>\n",
       "</table>\n",
       "</div>"
      ],
      "text/plain": [
       "           AP1          AP2   DT1   DT2   HTM   LTM  AC1  AC2  LC1  LC2   RFL  \\\n",
       "0   981.133938   978.160215   8.7  16.3  23.4  -0.7  0.8  1.0  0.4  0.5   3.7   \n",
       "1  1013.900000  1010.400000  23.5  27.1  31.9  18.2  3.2  3.4  1.3  1.4  34.5   \n",
       "2  1015.200000  1011.800000  16.8  16.5  28.8   6.4  1.5  1.5  0.4  0.3   5.6   \n",
       "3  1012.300000  1009.500000  26.2  28.7  32.0  22.2  3.1  3.9  2.5  2.9   5.0   \n",
       "4   997.000000   995.200000  10.7  19.8  27.3   4.2  1.3  1.6  0.4  0.4   9.5   \n",
       "\n",
       "    RH1   RH2      WSD  \n",
       "0  61.0  42.0  2.00000  \n",
       "1  87.0  70.0  6.70000  \n",
       "2  81.0  66.0  2.30000  \n",
       "3  81.0  71.0  4.79115  \n",
       "4  77.0  55.0  1.90000  "
      ]
     },
     "execution_count": 127,
     "metadata": {},
     "output_type": "execute_result"
    }
   ],
   "source": [
    "df_act.head()"
   ]
  },
  {
   "cell_type": "code",
   "execution_count": 128,
   "metadata": {
    "collapsed": true
   },
   "outputs": [],
   "source": [
    "from sklearn.preprocessing import StandardScaler"
   ]
  },
  {
   "cell_type": "code",
   "execution_count": 129,
   "metadata": {},
   "outputs": [
    {
     "data": {
      "text/plain": [
       "(417, 14)"
      ]
     },
     "execution_count": 129,
     "metadata": {},
     "output_type": "execute_result"
    }
   ],
   "source": [
    "sc= StandardScaler()\n",
    "df_scale = sc.fit_transform(df_act)\n",
    "df_scale.shape"
   ]
  },
  {
   "cell_type": "code",
   "execution_count": 130,
   "metadata": {},
   "outputs": [
    {
     "data": {
      "text/html": [
       "<div>\n",
       "<table border=\"1\" class=\"dataframe\">\n",
       "  <thead>\n",
       "    <tr style=\"text-align: right;\">\n",
       "      <th></th>\n",
       "      <th>AP1</th>\n",
       "      <th>AP2</th>\n",
       "      <th>DT1</th>\n",
       "      <th>DT2</th>\n",
       "      <th>HTM</th>\n",
       "      <th>LTM</th>\n",
       "      <th>AC1</th>\n",
       "      <th>AC2</th>\n",
       "      <th>LC1</th>\n",
       "      <th>LC2</th>\n",
       "      <th>RFL</th>\n",
       "      <th>RH1</th>\n",
       "      <th>RH2</th>\n",
       "      <th>WSD</th>\n",
       "    </tr>\n",
       "  </thead>\n",
       "  <tbody>\n",
       "    <tr>\n",
       "      <th>0</th>\n",
       "      <td>0.000000</td>\n",
       "      <td>-2.727827e-15</td>\n",
       "      <td>-1.276985</td>\n",
       "      <td>-1.097900</td>\n",
       "      <td>-1.221526</td>\n",
       "      <td>-1.489278</td>\n",
       "      <td>-1.138579</td>\n",
       "      <td>-0.966943</td>\n",
       "      <td>-0.697620</td>\n",
       "      <td>-0.523512</td>\n",
       "      <td>-0.479262</td>\n",
       "      <td>-1.292516</td>\n",
       "      <td>-0.886205</td>\n",
       "      <td>-1.053900</td>\n",
       "    </tr>\n",
       "    <tr>\n",
       "      <th>1</th>\n",
       "      <td>0.772602</td>\n",
       "      <td>7.735684e-01</td>\n",
       "      <td>1.310352</td>\n",
       "      <td>0.776498</td>\n",
       "      <td>0.608600</td>\n",
       "      <td>1.561643</td>\n",
       "      <td>1.208692</td>\n",
       "      <td>1.256700</td>\n",
       "      <td>0.591070</td>\n",
       "      <td>0.641758</td>\n",
       "      <td>0.616722</td>\n",
       "      <td>1.460395</td>\n",
       "      <td>1.181177</td>\n",
       "      <td>0.720755</td>\n",
       "    </tr>\n",
       "    <tr>\n",
       "      <th>2</th>\n",
       "      <td>0.803255</td>\n",
       "      <td>8.071603e-01</td>\n",
       "      <td>0.139058</td>\n",
       "      <td>-1.063189</td>\n",
       "      <td>-0.058858</td>\n",
       "      <td>-0.343165</td>\n",
       "      <td>-0.453958</td>\n",
       "      <td>-0.503684</td>\n",
       "      <td>-0.697620</td>\n",
       "      <td>-0.782460</td>\n",
       "      <td>-0.411652</td>\n",
       "      <td>0.825108</td>\n",
       "      <td>0.885837</td>\n",
       "      <td>-0.940624</td>\n",
       "    </tr>\n",
       "    <tr>\n",
       "      <th>3</th>\n",
       "      <td>0.734875</td>\n",
       "      <td>7.519736e-01</td>\n",
       "      <td>1.782367</td>\n",
       "      <td>1.054186</td>\n",
       "      <td>0.630130</td>\n",
       "      <td>2.207341</td>\n",
       "      <td>1.110889</td>\n",
       "      <td>1.719959</td>\n",
       "      <td>2.309324</td>\n",
       "      <td>2.583873</td>\n",
       "      <td>-0.433003</td>\n",
       "      <td>0.825108</td>\n",
       "      <td>1.255013</td>\n",
       "      <td>0.000000</td>\n",
       "    </tr>\n",
       "    <tr>\n",
       "      <th>4</th>\n",
       "      <td>0.374111</td>\n",
       "      <td>4.088563e-01</td>\n",
       "      <td>-0.927345</td>\n",
       "      <td>-0.490456</td>\n",
       "      <td>-0.381821</td>\n",
       "      <td>-0.698298</td>\n",
       "      <td>-0.649564</td>\n",
       "      <td>-0.411032</td>\n",
       "      <td>-0.697620</td>\n",
       "      <td>-0.652986</td>\n",
       "      <td>-0.272875</td>\n",
       "      <td>0.401583</td>\n",
       "      <td>0.073651</td>\n",
       "      <td>-1.091658</td>\n",
       "    </tr>\n",
       "  </tbody>\n",
       "</table>\n",
       "</div>"
      ],
      "text/plain": [
       "        AP1           AP2       DT1       DT2       HTM       LTM       AC1  \\\n",
       "0  0.000000 -2.727827e-15 -1.276985 -1.097900 -1.221526 -1.489278 -1.138579   \n",
       "1  0.772602  7.735684e-01  1.310352  0.776498  0.608600  1.561643  1.208692   \n",
       "2  0.803255  8.071603e-01  0.139058 -1.063189 -0.058858 -0.343165 -0.453958   \n",
       "3  0.734875  7.519736e-01  1.782367  1.054186  0.630130  2.207341  1.110889   \n",
       "4  0.374111  4.088563e-01 -0.927345 -0.490456 -0.381821 -0.698298 -0.649564   \n",
       "\n",
       "        AC2       LC1       LC2       RFL       RH1       RH2       WSD  \n",
       "0 -0.966943 -0.697620 -0.523512 -0.479262 -1.292516 -0.886205 -1.053900  \n",
       "1  1.256700  0.591070  0.641758  0.616722  1.460395  1.181177  0.720755  \n",
       "2 -0.503684 -0.697620 -0.782460 -0.411652  0.825108  0.885837 -0.940624  \n",
       "3  1.719959  2.309324  2.583873 -0.433003  0.825108  1.255013  0.000000  \n",
       "4 -0.411032 -0.697620 -0.652986 -0.272875  0.401583  0.073651 -1.091658  "
      ]
     },
     "execution_count": 130,
     "metadata": {},
     "output_type": "execute_result"
    }
   ],
   "source": [
    "df_scale = pd.DataFrame(df_scale, columns = df_act.columns)\n",
    "df_scale.head()"
   ]
  },
  {
   "cell_type": "markdown",
   "metadata": {},
   "source": [
    "## Choosing AP1 as target function label"
   ]
  },
  {
   "cell_type": "code",
   "execution_count": 131,
   "metadata": {
    "scrolled": false
   },
   "outputs": [],
   "source": [
    "Y_label = df_scale[\"AP1\"]"
   ]
  },
  {
   "cell_type": "code",
   "execution_count": 132,
   "metadata": {
    "collapsed": true
   },
   "outputs": [],
   "source": [
    "df_scale.drop(\"AP1\", axis = 1, inplace = True)"
   ]
  },
  {
   "cell_type": "code",
   "execution_count": 133,
   "metadata": {},
   "outputs": [
    {
     "data": {
      "text/html": [
       "<div>\n",
       "<table border=\"1\" class=\"dataframe\">\n",
       "  <thead>\n",
       "    <tr style=\"text-align: right;\">\n",
       "      <th></th>\n",
       "      <th>AP2</th>\n",
       "      <th>DT1</th>\n",
       "      <th>DT2</th>\n",
       "      <th>HTM</th>\n",
       "      <th>LTM</th>\n",
       "      <th>AC1</th>\n",
       "      <th>AC2</th>\n",
       "      <th>LC1</th>\n",
       "      <th>LC2</th>\n",
       "      <th>RFL</th>\n",
       "      <th>RH1</th>\n",
       "      <th>RH2</th>\n",
       "      <th>WSD</th>\n",
       "    </tr>\n",
       "  </thead>\n",
       "  <tbody>\n",
       "    <tr>\n",
       "      <th>0</th>\n",
       "      <td>-2.727827e-15</td>\n",
       "      <td>-1.276985</td>\n",
       "      <td>-1.097900</td>\n",
       "      <td>-1.221526</td>\n",
       "      <td>-1.489278</td>\n",
       "      <td>-1.138579</td>\n",
       "      <td>-0.966943</td>\n",
       "      <td>-0.697620</td>\n",
       "      <td>-0.523512</td>\n",
       "      <td>-0.479262</td>\n",
       "      <td>-1.292516</td>\n",
       "      <td>-0.886205</td>\n",
       "      <td>-1.053900</td>\n",
       "    </tr>\n",
       "    <tr>\n",
       "      <th>1</th>\n",
       "      <td>7.735684e-01</td>\n",
       "      <td>1.310352</td>\n",
       "      <td>0.776498</td>\n",
       "      <td>0.608600</td>\n",
       "      <td>1.561643</td>\n",
       "      <td>1.208692</td>\n",
       "      <td>1.256700</td>\n",
       "      <td>0.591070</td>\n",
       "      <td>0.641758</td>\n",
       "      <td>0.616722</td>\n",
       "      <td>1.460395</td>\n",
       "      <td>1.181177</td>\n",
       "      <td>0.720755</td>\n",
       "    </tr>\n",
       "    <tr>\n",
       "      <th>2</th>\n",
       "      <td>8.071603e-01</td>\n",
       "      <td>0.139058</td>\n",
       "      <td>-1.063189</td>\n",
       "      <td>-0.058858</td>\n",
       "      <td>-0.343165</td>\n",
       "      <td>-0.453958</td>\n",
       "      <td>-0.503684</td>\n",
       "      <td>-0.697620</td>\n",
       "      <td>-0.782460</td>\n",
       "      <td>-0.411652</td>\n",
       "      <td>0.825108</td>\n",
       "      <td>0.885837</td>\n",
       "      <td>-0.940624</td>\n",
       "    </tr>\n",
       "    <tr>\n",
       "      <th>3</th>\n",
       "      <td>7.519736e-01</td>\n",
       "      <td>1.782367</td>\n",
       "      <td>1.054186</td>\n",
       "      <td>0.630130</td>\n",
       "      <td>2.207341</td>\n",
       "      <td>1.110889</td>\n",
       "      <td>1.719959</td>\n",
       "      <td>2.309324</td>\n",
       "      <td>2.583873</td>\n",
       "      <td>-0.433003</td>\n",
       "      <td>0.825108</td>\n",
       "      <td>1.255013</td>\n",
       "      <td>0.000000</td>\n",
       "    </tr>\n",
       "    <tr>\n",
       "      <th>4</th>\n",
       "      <td>4.088563e-01</td>\n",
       "      <td>-0.927345</td>\n",
       "      <td>-0.490456</td>\n",
       "      <td>-0.381821</td>\n",
       "      <td>-0.698298</td>\n",
       "      <td>-0.649564</td>\n",
       "      <td>-0.411032</td>\n",
       "      <td>-0.697620</td>\n",
       "      <td>-0.652986</td>\n",
       "      <td>-0.272875</td>\n",
       "      <td>0.401583</td>\n",
       "      <td>0.073651</td>\n",
       "      <td>-1.091658</td>\n",
       "    </tr>\n",
       "  </tbody>\n",
       "</table>\n",
       "</div>"
      ],
      "text/plain": [
       "            AP2       DT1       DT2       HTM       LTM       AC1       AC2  \\\n",
       "0 -2.727827e-15 -1.276985 -1.097900 -1.221526 -1.489278 -1.138579 -0.966943   \n",
       "1  7.735684e-01  1.310352  0.776498  0.608600  1.561643  1.208692  1.256700   \n",
       "2  8.071603e-01  0.139058 -1.063189 -0.058858 -0.343165 -0.453958 -0.503684   \n",
       "3  7.519736e-01  1.782367  1.054186  0.630130  2.207341  1.110889  1.719959   \n",
       "4  4.088563e-01 -0.927345 -0.490456 -0.381821 -0.698298 -0.649564 -0.411032   \n",
       "\n",
       "        LC1       LC2       RFL       RH1       RH2       WSD  \n",
       "0 -0.697620 -0.523512 -0.479262 -1.292516 -0.886205 -1.053900  \n",
       "1  0.591070  0.641758  0.616722  1.460395  1.181177  0.720755  \n",
       "2 -0.697620 -0.782460 -0.411652  0.825108  0.885837 -0.940624  \n",
       "3  2.309324  2.583873 -0.433003  0.825108  1.255013  0.000000  \n",
       "4 -0.697620 -0.652986 -0.272875  0.401583  0.073651 -1.091658  "
      ]
     },
     "execution_count": 133,
     "metadata": {},
     "output_type": "execute_result"
    }
   ],
   "source": [
    "X_label = df_scale\n",
    "X_label.head()"
   ]
  },
  {
   "cell_type": "markdown",
   "metadata": {},
   "source": [
    "## PCA ON DATABASE"
   ]
  },
  {
   "cell_type": "code",
   "execution_count": null,
   "metadata": {
    "collapsed": true
   },
   "outputs": [],
   "source": [
    "#X_cov2 = np.cov(X_label.T)"
   ]
  },
  {
   "cell_type": "code",
   "execution_count": 135,
   "metadata": {},
   "outputs": [
    {
     "data": {
      "text/html": [
       "<div>\n",
       "<table border=\"1\" class=\"dataframe\">\n",
       "  <thead>\n",
       "    <tr style=\"text-align: right;\">\n",
       "      <th></th>\n",
       "      <th>AP2</th>\n",
       "      <th>DT1</th>\n",
       "      <th>DT2</th>\n",
       "      <th>HTM</th>\n",
       "      <th>LTM</th>\n",
       "      <th>AC1</th>\n",
       "      <th>AC2</th>\n",
       "      <th>LC1</th>\n",
       "      <th>LC2</th>\n",
       "      <th>RFL</th>\n",
       "      <th>RH1</th>\n",
       "      <th>RH2</th>\n",
       "      <th>WSD</th>\n",
       "    </tr>\n",
       "  </thead>\n",
       "  <tbody>\n",
       "    <tr>\n",
       "      <th>AP2</th>\n",
       "      <td>1.002404</td>\n",
       "      <td>0.419402</td>\n",
       "      <td>0.418756</td>\n",
       "      <td>0.459909</td>\n",
       "      <td>0.408738</td>\n",
       "      <td>-0.205459</td>\n",
       "      <td>-0.341992</td>\n",
       "      <td>-0.287826</td>\n",
       "      <td>-0.467699</td>\n",
       "      <td>-0.259983</td>\n",
       "      <td>0.188974</td>\n",
       "      <td>0.068142</td>\n",
       "      <td>0.114288</td>\n",
       "    </tr>\n",
       "    <tr>\n",
       "      <th>DT1</th>\n",
       "      <td>0.419402</td>\n",
       "      <td>1.002404</td>\n",
       "      <td>0.811222</td>\n",
       "      <td>0.796549</td>\n",
       "      <td>0.957314</td>\n",
       "      <td>-0.071718</td>\n",
       "      <td>-0.098515</td>\n",
       "      <td>-0.161269</td>\n",
       "      <td>-0.171452</td>\n",
       "      <td>-0.361280</td>\n",
       "      <td>-0.060667</td>\n",
       "      <td>0.042693</td>\n",
       "      <td>0.394222</td>\n",
       "    </tr>\n",
       "    <tr>\n",
       "      <th>DT2</th>\n",
       "      <td>0.418756</td>\n",
       "      <td>0.811222</td>\n",
       "      <td>1.002404</td>\n",
       "      <td>0.925564</td>\n",
       "      <td>0.765108</td>\n",
       "      <td>-0.310366</td>\n",
       "      <td>-0.338747</td>\n",
       "      <td>-0.402169</td>\n",
       "      <td>-0.410892</td>\n",
       "      <td>-0.529508</td>\n",
       "      <td>-0.175339</td>\n",
       "      <td>-0.401725</td>\n",
       "      <td>0.262620</td>\n",
       "    </tr>\n",
       "    <tr>\n",
       "      <th>HTM</th>\n",
       "      <td>0.459909</td>\n",
       "      <td>0.796549</td>\n",
       "      <td>0.925564</td>\n",
       "      <td>1.002404</td>\n",
       "      <td>0.748445</td>\n",
       "      <td>-0.405494</td>\n",
       "      <td>-0.443597</td>\n",
       "      <td>-0.504865</td>\n",
       "      <td>-0.507202</td>\n",
       "      <td>-0.551255</td>\n",
       "      <td>-0.225634</td>\n",
       "      <td>-0.410692</td>\n",
       "      <td>0.228416</td>\n",
       "    </tr>\n",
       "    <tr>\n",
       "      <th>LTM</th>\n",
       "      <td>0.408738</td>\n",
       "      <td>0.957314</td>\n",
       "      <td>0.765108</td>\n",
       "      <td>0.748445</td>\n",
       "      <td>1.002404</td>\n",
       "      <td>0.039984</td>\n",
       "      <td>0.005428</td>\n",
       "      <td>-0.083556</td>\n",
       "      <td>-0.104047</td>\n",
       "      <td>-0.301312</td>\n",
       "      <td>0.039010</td>\n",
       "      <td>0.094442</td>\n",
       "      <td>0.457803</td>\n",
       "    </tr>\n",
       "    <tr>\n",
       "      <th>AC1</th>\n",
       "      <td>-0.205459</td>\n",
       "      <td>-0.071718</td>\n",
       "      <td>-0.310366</td>\n",
       "      <td>-0.405494</td>\n",
       "      <td>0.039984</td>\n",
       "      <td>1.002404</td>\n",
       "      <td>0.919909</td>\n",
       "      <td>0.850250</td>\n",
       "      <td>0.749663</td>\n",
       "      <td>0.501239</td>\n",
       "      <td>0.425119</td>\n",
       "      <td>0.462975</td>\n",
       "      <td>0.131803</td>\n",
       "    </tr>\n",
       "    <tr>\n",
       "      <th>AC2</th>\n",
       "      <td>-0.341992</td>\n",
       "      <td>-0.098515</td>\n",
       "      <td>-0.338747</td>\n",
       "      <td>-0.443597</td>\n",
       "      <td>0.005428</td>\n",
       "      <td>0.919909</td>\n",
       "      <td>1.002404</td>\n",
       "      <td>0.813153</td>\n",
       "      <td>0.869078</td>\n",
       "      <td>0.493243</td>\n",
       "      <td>0.317833</td>\n",
       "      <td>0.445471</td>\n",
       "      <td>0.112330</td>\n",
       "    </tr>\n",
       "    <tr>\n",
       "      <th>LC1</th>\n",
       "      <td>-0.287826</td>\n",
       "      <td>-0.161269</td>\n",
       "      <td>-0.402169</td>\n",
       "      <td>-0.504865</td>\n",
       "      <td>-0.083556</td>\n",
       "      <td>0.850250</td>\n",
       "      <td>0.813153</td>\n",
       "      <td>1.002404</td>\n",
       "      <td>0.877819</td>\n",
       "      <td>0.518343</td>\n",
       "      <td>0.407603</td>\n",
       "      <td>0.492048</td>\n",
       "      <td>-0.014619</td>\n",
       "    </tr>\n",
       "    <tr>\n",
       "      <th>LC2</th>\n",
       "      <td>-0.467699</td>\n",
       "      <td>-0.171452</td>\n",
       "      <td>-0.410892</td>\n",
       "      <td>-0.507202</td>\n",
       "      <td>-0.104047</td>\n",
       "      <td>0.749663</td>\n",
       "      <td>0.869078</td>\n",
       "      <td>0.877819</td>\n",
       "      <td>1.002404</td>\n",
       "      <td>0.482185</td>\n",
       "      <td>0.226958</td>\n",
       "      <td>0.436582</td>\n",
       "      <td>-0.020761</td>\n",
       "    </tr>\n",
       "    <tr>\n",
       "      <th>RFL</th>\n",
       "      <td>-0.259983</td>\n",
       "      <td>-0.361280</td>\n",
       "      <td>-0.529508</td>\n",
       "      <td>-0.551255</td>\n",
       "      <td>-0.301312</td>\n",
       "      <td>0.501239</td>\n",
       "      <td>0.493243</td>\n",
       "      <td>0.518343</td>\n",
       "      <td>0.482185</td>\n",
       "      <td>1.002404</td>\n",
       "      <td>0.156605</td>\n",
       "      <td>0.331385</td>\n",
       "      <td>-0.080023</td>\n",
       "    </tr>\n",
       "    <tr>\n",
       "      <th>RH1</th>\n",
       "      <td>0.188974</td>\n",
       "      <td>-0.060667</td>\n",
       "      <td>-0.175339</td>\n",
       "      <td>-0.225634</td>\n",
       "      <td>0.039010</td>\n",
       "      <td>0.425119</td>\n",
       "      <td>0.317833</td>\n",
       "      <td>0.407603</td>\n",
       "      <td>0.226958</td>\n",
       "      <td>0.156605</td>\n",
       "      <td>1.002404</td>\n",
       "      <td>0.589776</td>\n",
       "      <td>-0.168827</td>\n",
       "    </tr>\n",
       "    <tr>\n",
       "      <th>RH2</th>\n",
       "      <td>0.068142</td>\n",
       "      <td>0.042693</td>\n",
       "      <td>-0.401725</td>\n",
       "      <td>-0.410692</td>\n",
       "      <td>0.094442</td>\n",
       "      <td>0.462975</td>\n",
       "      <td>0.445471</td>\n",
       "      <td>0.492048</td>\n",
       "      <td>0.436582</td>\n",
       "      <td>0.331385</td>\n",
       "      <td>0.589776</td>\n",
       "      <td>1.002404</td>\n",
       "      <td>0.054485</td>\n",
       "    </tr>\n",
       "    <tr>\n",
       "      <th>WSD</th>\n",
       "      <td>0.114288</td>\n",
       "      <td>0.394222</td>\n",
       "      <td>0.262620</td>\n",
       "      <td>0.228416</td>\n",
       "      <td>0.457803</td>\n",
       "      <td>0.131803</td>\n",
       "      <td>0.112330</td>\n",
       "      <td>-0.014619</td>\n",
       "      <td>-0.020761</td>\n",
       "      <td>-0.080023</td>\n",
       "      <td>-0.168827</td>\n",
       "      <td>0.054485</td>\n",
       "      <td>1.002404</td>\n",
       "    </tr>\n",
       "  </tbody>\n",
       "</table>\n",
       "</div>"
      ],
      "text/plain": [
       "          AP2       DT1       DT2       HTM       LTM       AC1       AC2  \\\n",
       "AP2  1.002404  0.419402  0.418756  0.459909  0.408738 -0.205459 -0.341992   \n",
       "DT1  0.419402  1.002404  0.811222  0.796549  0.957314 -0.071718 -0.098515   \n",
       "DT2  0.418756  0.811222  1.002404  0.925564  0.765108 -0.310366 -0.338747   \n",
       "HTM  0.459909  0.796549  0.925564  1.002404  0.748445 -0.405494 -0.443597   \n",
       "LTM  0.408738  0.957314  0.765108  0.748445  1.002404  0.039984  0.005428   \n",
       "AC1 -0.205459 -0.071718 -0.310366 -0.405494  0.039984  1.002404  0.919909   \n",
       "AC2 -0.341992 -0.098515 -0.338747 -0.443597  0.005428  0.919909  1.002404   \n",
       "LC1 -0.287826 -0.161269 -0.402169 -0.504865 -0.083556  0.850250  0.813153   \n",
       "LC2 -0.467699 -0.171452 -0.410892 -0.507202 -0.104047  0.749663  0.869078   \n",
       "RFL -0.259983 -0.361280 -0.529508 -0.551255 -0.301312  0.501239  0.493243   \n",
       "RH1  0.188974 -0.060667 -0.175339 -0.225634  0.039010  0.425119  0.317833   \n",
       "RH2  0.068142  0.042693 -0.401725 -0.410692  0.094442  0.462975  0.445471   \n",
       "WSD  0.114288  0.394222  0.262620  0.228416  0.457803  0.131803  0.112330   \n",
       "\n",
       "          LC1       LC2       RFL       RH1       RH2       WSD  \n",
       "AP2 -0.287826 -0.467699 -0.259983  0.188974  0.068142  0.114288  \n",
       "DT1 -0.161269 -0.171452 -0.361280 -0.060667  0.042693  0.394222  \n",
       "DT2 -0.402169 -0.410892 -0.529508 -0.175339 -0.401725  0.262620  \n",
       "HTM -0.504865 -0.507202 -0.551255 -0.225634 -0.410692  0.228416  \n",
       "LTM -0.083556 -0.104047 -0.301312  0.039010  0.094442  0.457803  \n",
       "AC1  0.850250  0.749663  0.501239  0.425119  0.462975  0.131803  \n",
       "AC2  0.813153  0.869078  0.493243  0.317833  0.445471  0.112330  \n",
       "LC1  1.002404  0.877819  0.518343  0.407603  0.492048 -0.014619  \n",
       "LC2  0.877819  1.002404  0.482185  0.226958  0.436582 -0.020761  \n",
       "RFL  0.518343  0.482185  1.002404  0.156605  0.331385 -0.080023  \n",
       "RH1  0.407603  0.226958  0.156605  1.002404  0.589776 -0.168827  \n",
       "RH2  0.492048  0.436582  0.331385  0.589776  1.002404  0.054485  \n",
       "WSD -0.014619 -0.020761 -0.080023 -0.168827  0.054485  1.002404  "
      ]
     },
     "execution_count": 135,
     "metadata": {},
     "output_type": "execute_result"
    }
   ],
   "source": [
    "X_cov = (X_label.T).dot(X_label)/ (len(df) -1)\n",
    "X_cov"
   ]
  },
  {
   "cell_type": "code",
   "execution_count": 136,
   "metadata": {
    "collapsed": true
   },
   "outputs": [],
   "source": [
    "eigval, eigvec = np.linalg.eig(X_cov)"
   ]
  },
  {
   "cell_type": "code",
   "execution_count": 137,
   "metadata": {},
   "outputs": [
    {
     "data": {
      "text/plain": [
       "array([ 5.6547256 ,  3.05999632,  1.43055817,  0.86212158,  0.61060958,\n",
       "        0.51362064,  0.37275031,  0.20634685,  0.12889706,  0.07525632,\n",
       "        0.06686597,  0.02047358,  0.02902802])"
      ]
     },
     "execution_count": 137,
     "metadata": {},
     "output_type": "execute_result"
    }
   ],
   "source": [
    "eigval"
   ]
  },
  {
   "cell_type": "code",
   "execution_count": 185,
   "metadata": {},
   "outputs": [
    {
     "ename": "TypeError",
     "evalue": "'numpy.ndarray' object is not callable",
     "output_type": "error",
     "traceback": [
      "\u001b[0;31m---------------------------------------------------------------------------\u001b[0m",
      "\u001b[0;31mTypeError\u001b[0m                                 Traceback (most recent call last)",
      "\u001b[0;32m<ipython-input-185-515260b20a60>\u001b[0m in \u001b[0;36m<module>\u001b[0;34m()\u001b[0m\n\u001b[0;32m----> 1\u001b[0;31m \u001b[0msum\u001b[0m \u001b[0;34m=\u001b[0m \u001b[0meigval\u001b[0m\u001b[0;34m/\u001b[0m\u001b[0msum\u001b[0m\u001b[0;34m(\u001b[0m\u001b[0meigval\u001b[0m\u001b[0;34m)\u001b[0m\u001b[0;34m*\u001b[0m\u001b[0;36m100\u001b[0m\u001b[0;34m\u001b[0m\u001b[0m\n\u001b[0m",
      "\u001b[0;31mTypeError\u001b[0m: 'numpy.ndarray' object is not callable"
     ]
    }
   ],
   "source": [
    "sum = eigval/sum(eigval)*100"
   ]
  },
  {
   "cell_type": "code",
   "execution_count": 140,
   "metadata": {},
   "outputs": [
    {
     "data": {
      "text/plain": [
       "array([  43.39357774,   66.87556391,   77.8534683 ,   84.46926937,\n",
       "         89.15500237,   93.09645575,   95.9568898 ,   97.54036679,\n",
       "         98.52950489,   99.10701143,   99.62013161,   99.777243  ,  100.        ])"
      ]
     },
     "execution_count": 140,
     "metadata": {},
     "output_type": "execute_result"
    }
   ],
   "source": [
    "cumsum = np.cumsum(sum)\n",
    "cumsum"
   ]
  },
  {
   "cell_type": "code",
   "execution_count": 141,
   "metadata": {},
   "outputs": [
    {
     "data": {
      "image/png": "[encoded data removed]",
      "text/plain": [
       "<matplotlib.figure.Figure at 0x7f9d152fb9b0>"
      ]
     },
     "metadata": {},
     "output_type": "display_data"
    }
   ],
   "source": [
    "plt.plot(cumsum)\n",
    "plt.show()"
   ]
  },
  {
   "cell_type": "code",
   "execution_count": 142,
   "metadata": {},
   "outputs": [
    {
     "data": {
      "text/plain": [
       "5"
      ]
     },
     "execution_count": 142,
     "metadata": {},
     "output_type": "execute_result"
    }
   ],
   "source": [
    "#taking 90% of the actual data\n",
    "for i in range(len(cumsum)):\n",
    "    if (cumsum[i] >= 90):\n",
    "        k = i;\n",
    "        break\n",
    "k"
   ]
  },
  {
   "cell_type": "code",
   "execution_count": 198,
   "metadata": {},
   "outputs": [
    {
     "data": {
      "text/plain": [
       "(5, 13)"
      ]
     },
     "execution_count": 198,
     "metadata": {},
     "output_type": "execute_result"
    }
   ],
   "source": [
    "#top 5 eigen values\n",
    "X_5 = eigvec[0:5,:]\n",
    "X_5.shape"
   ]
  },
  {
   "cell_type": "code",
   "execution_count": 197,
   "metadata": {
    "collapsed": true
   },
   "outputs": [],
   "source": [
    "X_tran = X_label.dot(X_5.T)"
   ]
  },
  {
   "cell_type": "code",
   "execution_count": 203,
   "metadata": {},
   "outputs": [
    {
     "data": {
      "text/html": [
       "<div>\n",
       "<table border=\"1\" class=\"dataframe\">\n",
       "  <thead>\n",
       "    <tr style=\"text-align: right;\">\n",
       "      <th></th>\n",
       "      <th>0</th>\n",
       "      <th>1</th>\n",
       "      <th>2</th>\n",
       "      <th>3</th>\n",
       "      <th>4</th>\n",
       "      <th>label</th>\n",
       "    </tr>\n",
       "  </thead>\n",
       "  <tbody>\n",
       "    <tr>\n",
       "      <th>0</th>\n",
       "      <td>1.116432</td>\n",
       "      <td>-0.740788</td>\n",
       "      <td>0.303668</td>\n",
       "      <td>1.758796</td>\n",
       "      <td>1.058044</td>\n",
       "      <td>0.000000</td>\n",
       "    </tr>\n",
       "    <tr>\n",
       "      <th>1</th>\n",
       "      <td>-1.458439</td>\n",
       "      <td>0.764610</td>\n",
       "      <td>0.421843</td>\n",
       "      <td>-1.450474</td>\n",
       "      <td>-0.725257</td>\n",
       "      <td>0.772602</td>\n",
       "    </tr>\n",
       "    <tr>\n",
       "      <th>2</th>\n",
       "      <td>0.422677</td>\n",
       "      <td>-0.507393</td>\n",
       "      <td>0.979709</td>\n",
       "      <td>-0.457794</td>\n",
       "      <td>0.705744</td>\n",
       "      <td>0.803255</td>\n",
       "    </tr>\n",
       "    <tr>\n",
       "      <th>3</th>\n",
       "      <td>-2.239784</td>\n",
       "      <td>0.369729</td>\n",
       "      <td>-1.072703</td>\n",
       "      <td>-1.492037</td>\n",
       "      <td>0.311239</td>\n",
       "      <td>0.734875</td>\n",
       "    </tr>\n",
       "    <tr>\n",
       "      <th>4</th>\n",
       "      <td>0.849307</td>\n",
       "      <td>-0.451554</td>\n",
       "      <td>1.061159</td>\n",
       "      <td>0.143722</td>\n",
       "      <td>1.088806</td>\n",
       "      <td>0.374111</td>\n",
       "    </tr>\n",
       "  </tbody>\n",
       "</table>\n",
       "</div>"
      ],
      "text/plain": [
       "          0         1         2         3         4     label\n",
       "0  1.116432 -0.740788  0.303668  1.758796  1.058044  0.000000\n",
       "1 -1.458439  0.764610  0.421843 -1.450474 -0.725257  0.772602\n",
       "2  0.422677 -0.507393  0.979709 -0.457794  0.705744  0.803255\n",
       "3 -2.239784  0.369729 -1.072703 -1.492037  0.311239  0.734875\n",
       "4  0.849307 -0.451554  1.061159  0.143722  1.088806  0.374111"
      ]
     },
     "execution_count": 203,
     "metadata": {},
     "output_type": "execute_result"
    }
   ],
   "source": [
    "#X_tran.columns = [\"PC1\",\"PC2\",\"PC3\",\"PC4\",\"PC5\"]\n",
    "X_tran[\"label\"] = Y_label\n",
    "X_tran.head()"
   ]
  },
  {
   "cell_type": "code",
   "execution_count": 222,
   "metadata": {},
   "outputs": [
    {
     "data": {
      "image/png": "[encoded data removed]",
      "text/plain": [
       "<matplotlib.figure.Figure at 0x7f9d0c420dd8>"
      ]
     },
     "metadata": {},
     "output_type": "display_data"
    }
   ],
   "source": [
    "plt.figure(figsize=(8,6))\n",
    "plt.scatter(X_tran.iloc[:,0], X_tran.iloc[:,1] ,c = X_tran.iloc[:,-1],cmap='rainbow')\n",
    "plt.show()"
   ]
  },
  {
   "cell_type": "markdown",
   "metadata": {
    "collapsed": true
   },
   "source": [
    "## MEAN of DT1 and DT2 as a lebel "
   ]
  },
  {
   "cell_type": "code",
   "execution_count": 147,
   "metadata": {
    "collapsed": true
   },
   "outputs": [],
   "source": [
    "#df_act = dfcopy1[[\"AP1\",\"AP2\",\"DT1\",\"DT2\",\"HTM\",\"LTM\",\"AC1\",\"AC2\",\"LC1\",\"LC2\",\"RFL\",\"RH1\",\"RH2\",\"WSD\"]]\n",
    "#df_act.head()"
   ]
  },
  {
   "cell_type": "code",
   "execution_count": 148,
   "metadata": {
    "collapsed": true
   },
   "outputs": [],
   "source": [
    "# sc= StandardScaler()\n",
    "# df_scale = sc.fit_transform(df_act)"
   ]
  },
  {
   "cell_type": "code",
   "execution_count": 149,
   "metadata": {},
   "outputs": [],
   "source": [
    "#df_scale = pd.DataFrame(df_scale, columns = df_act.columns)"
   ]
  },
  {
   "cell_type": "code",
   "execution_count": 150,
   "metadata": {
    "collapsed": true
   },
   "outputs": [],
   "source": [
    "# Y_label = (df_scale[\"DT1\"] + df_scale[\"DT2\"])/2"
   ]
  },
  {
   "cell_type": "code",
   "execution_count": 151,
   "metadata": {
    "collapsed": true
   },
   "outputs": [],
   "source": [
    "# df_scale.drop([\"DT1\",\"DT2\"], axis=1, inplace = True)"
   ]
  },
  {
   "cell_type": "code",
   "execution_count": 152,
   "metadata": {},
   "outputs": [],
   "source": [
    "# X_label = df_scale\n",
    "# X_label.head()"
   ]
  },
  {
   "cell_type": "code",
   "execution_count": 153,
   "metadata": {
    "collapsed": true
   },
   "outputs": [],
   "source": [
    "# X_cov = np.cov(X_label.T)\n",
    "# eigval, eigvec = np.linalg.eig(X_cov)\n",
    "\n",
    "# #top 5 eigen values\n",
    "# X_5 = eigvec[0:5,:]\n",
    "# X_5.shape\n",
    "\n",
    "# X_tran = X_label.dot(X_5.T)\n",
    "\n",
    "# X_tran.columns = [\"PC1\",\"PC2\",\"PC3\",\"PC4\",\"PC5\"]\n",
    "# X_tran[\"Y_label\"] = Y_label"
   ]
  },
  {
   "cell_type": "code",
   "execution_count": 154,
   "metadata": {},
   "outputs": [],
   "source": [
    "# X_tran.head()"
   ]
  },
  {
   "cell_type": "code",
   "execution_count": 155,
   "metadata": {},
   "outputs": [],
   "source": [
    "# plt.figure(figsize=(8,6))\n",
    "# plt.scatter(X_tran.iloc[:,0], X_tran.iloc[:,-1], c = X_tran.iloc[:,-1],cmap='rainbow')\n",
    "# plt.show()"
   ]
  },
  {
   "cell_type": "markdown",
   "metadata": {},
   "source": [
    "## with pca library"
   ]
  },
  {
   "cell_type": "code",
   "execution_count": 156,
   "metadata": {
    "collapsed": true
   },
   "outputs": [],
   "source": [
    "from sklearn.decomposition import PCA\n",
    "pca = PCA(n_components=5)\n",
    "pca.fit(X_label)\n",
    "X_pca = pca.transform(X_label)"
   ]
  },
  {
   "cell_type": "code",
   "execution_count": 157,
   "metadata": {},
   "outputs": [
    {
     "data": {
      "text/html": [
       "<div>\n",
       "<table border=\"1\" class=\"dataframe\">\n",
       "  <thead>\n",
       "    <tr style=\"text-align: right;\">\n",
       "      <th></th>\n",
       "      <th>0</th>\n",
       "      <th>1</th>\n",
       "      <th>2</th>\n",
       "      <th>3</th>\n",
       "      <th>4</th>\n",
       "      <th>Y_label</th>\n",
       "    </tr>\n",
       "  </thead>\n",
       "  <tbody>\n",
       "    <tr>\n",
       "      <th>0</th>\n",
       "      <td>-0.098637</td>\n",
       "      <td>-3.466396</td>\n",
       "      <td>0.090657</td>\n",
       "      <td>0.095351</td>\n",
       "      <td>-0.064083</td>\n",
       "      <td>0.000000</td>\n",
       "    </tr>\n",
       "    <tr>\n",
       "      <th>1</th>\n",
       "      <td>0.522637</td>\n",
       "      <td>3.537994</td>\n",
       "      <td>-0.791520</td>\n",
       "      <td>0.039084</td>\n",
       "      <td>0.340500</td>\n",
       "      <td>0.772602</td>\n",
       "    </tr>\n",
       "    <tr>\n",
       "      <th>2</th>\n",
       "      <td>-0.276852</td>\n",
       "      <td>-0.772425</td>\n",
       "      <td>-2.048505</td>\n",
       "      <td>0.078149</td>\n",
       "      <td>-0.293546</td>\n",
       "      <td>0.803255</td>\n",
       "    </tr>\n",
       "    <tr>\n",
       "      <th>3</th>\n",
       "      <td>1.202745</td>\n",
       "      <td>4.733389</td>\n",
       "      <td>0.031446</td>\n",
       "      <td>-1.457069</td>\n",
       "      <td>-0.359363</td>\n",
       "      <td>0.734875</td>\n",
       "    </tr>\n",
       "    <tr>\n",
       "      <th>4</th>\n",
       "      <td>-0.110755</td>\n",
       "      <td>-1.706241</td>\n",
       "      <td>-1.268189</td>\n",
       "      <td>-0.278659</td>\n",
       "      <td>-0.061246</td>\n",
       "      <td>0.374111</td>\n",
       "    </tr>\n",
       "  </tbody>\n",
       "</table>\n",
       "</div>"
      ],
      "text/plain": [
       "          0         1         2         3         4   Y_label\n",
       "0 -0.098637 -3.466396  0.090657  0.095351 -0.064083  0.000000\n",
       "1  0.522637  3.537994 -0.791520  0.039084  0.340500  0.772602\n",
       "2 -0.276852 -0.772425 -2.048505  0.078149 -0.293546  0.803255\n",
       "3  1.202745  4.733389  0.031446 -1.457069 -0.359363  0.734875\n",
       "4 -0.110755 -1.706241 -1.268189 -0.278659 -0.061246  0.374111"
      ]
     },
     "execution_count": 157,
     "metadata": {},
     "output_type": "execute_result"
    }
   ],
   "source": [
    "X_pca = pd.DataFrame(X_pca)\n",
    "\n",
    "X_pca[\"Y_label\"] = Y_label\n",
    "X_pca.head()"
   ]
  },
  {
   "cell_type": "code",
   "execution_count": 158,
   "metadata": {},
   "outputs": [
    {
     "data": {
      "text/html": [
       "<div>\n",
       "<table border=\"1\" class=\"dataframe\">\n",
       "  <thead>\n",
       "    <tr style=\"text-align: right;\">\n",
       "      <th></th>\n",
       "      <th>PC1</th>\n",
       "      <th>PC2</th>\n",
       "      <th>PC3</th>\n",
       "      <th>PC4</th>\n",
       "      <th>PC5</th>\n",
       "      <th>label</th>\n",
       "    </tr>\n",
       "  </thead>\n",
       "  <tbody>\n",
       "    <tr>\n",
       "      <th>0</th>\n",
       "      <td>1.116432</td>\n",
       "      <td>-0.740788</td>\n",
       "      <td>0.303668</td>\n",
       "      <td>1.758796</td>\n",
       "      <td>1.058044</td>\n",
       "      <td>0.000000</td>\n",
       "    </tr>\n",
       "    <tr>\n",
       "      <th>1</th>\n",
       "      <td>-1.458439</td>\n",
       "      <td>0.764610</td>\n",
       "      <td>0.421843</td>\n",
       "      <td>-1.450474</td>\n",
       "      <td>-0.725257</td>\n",
       "      <td>0.772602</td>\n",
       "    </tr>\n",
       "    <tr>\n",
       "      <th>2</th>\n",
       "      <td>0.422677</td>\n",
       "      <td>-0.507393</td>\n",
       "      <td>0.979709</td>\n",
       "      <td>-0.457794</td>\n",
       "      <td>0.705744</td>\n",
       "      <td>0.803255</td>\n",
       "    </tr>\n",
       "    <tr>\n",
       "      <th>3</th>\n",
       "      <td>-2.239784</td>\n",
       "      <td>0.369729</td>\n",
       "      <td>-1.072703</td>\n",
       "      <td>-1.492037</td>\n",
       "      <td>0.311239</td>\n",
       "      <td>0.734875</td>\n",
       "    </tr>\n",
       "    <tr>\n",
       "      <th>4</th>\n",
       "      <td>0.849307</td>\n",
       "      <td>-0.451554</td>\n",
       "      <td>1.061159</td>\n",
       "      <td>0.143722</td>\n",
       "      <td>1.088806</td>\n",
       "      <td>0.374111</td>\n",
       "    </tr>\n",
       "  </tbody>\n",
       "</table>\n",
       "</div>"
      ],
      "text/plain": [
       "        PC1       PC2       PC3       PC4       PC5     label\n",
       "0  1.116432 -0.740788  0.303668  1.758796  1.058044  0.000000\n",
       "1 -1.458439  0.764610  0.421843 -1.450474 -0.725257  0.772602\n",
       "2  0.422677 -0.507393  0.979709 -0.457794  0.705744  0.803255\n",
       "3 -2.239784  0.369729 -1.072703 -1.492037  0.311239  0.734875\n",
       "4  0.849307 -0.451554  1.061159  0.143722  1.088806  0.374111"
      ]
     },
     "execution_count": 158,
     "metadata": {},
     "output_type": "execute_result"
    }
   ],
   "source": [
    "X_tran.head()"
   ]
  },
  {
   "cell_type": "code",
   "execution_count": 159,
   "metadata": {},
   "outputs": [
    {
     "data": {
      "image/png": "[encoded data removed]",
      "text/plain": [
       "<matplotlib.figure.Figure at 0x7f9d0f73c710>"
      ]
     },
     "metadata": {},
     "output_type": "display_data"
    }
   ],
   "source": [
    "plt.figure(figsize=(8,6))\n",
    "plt.scatter(X_pca.iloc[:,0], X_pca.iloc[:,1], c = X_pca.iloc[:,-1],cmap='rainbow')\n",
    "plt.show()"
   ]
  },
  {
   "cell_type": "code",
   "execution_count": null,
   "metadata": {
    "collapsed": true
   },
   "outputs": [],
   "source": []
  }
 ],
 "metadata": {
  "kernelspec": {
   "display_name": "Python 3",
   "language": "python",
   "name": "python3"
  },
  "language_info": {
   "codemirror_mode": {
    "name": "ipython",
    "version": 3
   },
   "file_extension": ".py",
   "mimetype": "text/x-python",
   "name": "python",
   "nbconvert_exporter": "python",
   "pygments_lexer": "ipython3",
   "version": "3.6.2"
  }
 },
 "nbformat": 4,
 "nbformat_minor": 2
}
