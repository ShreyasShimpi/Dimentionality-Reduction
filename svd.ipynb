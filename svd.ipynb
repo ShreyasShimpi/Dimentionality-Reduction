{
 "cells": [
  {
   "cell_type": "code",
   "execution_count": 1,
   "metadata": {
    "collapsed": true
   },
   "outputs": [],
   "source": [
    "import pandas as pd\n",
    "import numpy as np\n",
    "import matplotlib.pyplot as plt\n",
    "from sklearn.preprocessing import StandardScaler"
   ]
  },
  {
   "cell_type": "code",
   "execution_count": 2,
   "metadata": {},
   "outputs": [
    {
     "data": {
      "text/html": [
       "<div>\n",
       "<table border=\"1\" class=\"dataframe\">\n",
       "  <thead>\n",
       "    <tr style=\"text-align: right;\">\n",
       "      <th></th>\n",
       "      <th>Latitude</th>\n",
       "      <th>Longitude</th>\n",
       "      <th>Absolute elevation</th>\n",
       "      <th>Distance from Coast</th>\n",
       "      <th>AP1</th>\n",
       "      <th>AP2</th>\n",
       "      <th>DT1</th>\n",
       "      <th>DT2</th>\n",
       "      <th>HTM</th>\n",
       "      <th>LTM</th>\n",
       "      <th>AC1</th>\n",
       "      <th>AC2</th>\n",
       "      <th>LC1</th>\n",
       "      <th>LC2</th>\n",
       "      <th>RFL</th>\n",
       "      <th>RH1</th>\n",
       "      <th>RH2</th>\n",
       "      <th>WSD</th>\n",
       "    </tr>\n",
       "  </thead>\n",
       "  <tbody>\n",
       "    <tr>\n",
       "      <th>0</th>\n",
       "      <td>24.60</td>\n",
       "      <td>72.72</td>\n",
       "      <td>1195.0</td>\n",
       "      <td>253.94</td>\n",
       "      <td>NaN</td>\n",
       "      <td>NaN</td>\n",
       "      <td>8.7</td>\n",
       "      <td>16.3</td>\n",
       "      <td>23.4</td>\n",
       "      <td>-0.7</td>\n",
       "      <td>0.8</td>\n",
       "      <td>1.0</td>\n",
       "      <td>0.4</td>\n",
       "      <td>0.5</td>\n",
       "      <td>3.7</td>\n",
       "      <td>61.0</td>\n",
       "      <td>42.0</td>\n",
       "      <td>2.0</td>\n",
       "    </tr>\n",
       "    <tr>\n",
       "      <th>1</th>\n",
       "      <td>10.33</td>\n",
       "      <td>79.38</td>\n",
       "      <td>6.0</td>\n",
       "      <td>2.56</td>\n",
       "      <td>1013.9</td>\n",
       "      <td>1010.4</td>\n",
       "      <td>23.5</td>\n",
       "      <td>27.1</td>\n",
       "      <td>31.9</td>\n",
       "      <td>18.2</td>\n",
       "      <td>3.2</td>\n",
       "      <td>3.4</td>\n",
       "      <td>1.3</td>\n",
       "      <td>1.4</td>\n",
       "      <td>34.5</td>\n",
       "      <td>87.0</td>\n",
       "      <td>70.0</td>\n",
       "      <td>6.7</td>\n",
       "    </tr>\n",
       "    <tr>\n",
       "      <th>2</th>\n",
       "      <td>23.88</td>\n",
       "      <td>91.25</td>\n",
       "      <td>16.0</td>\n",
       "      <td>124.39</td>\n",
       "      <td>1015.2</td>\n",
       "      <td>1011.8</td>\n",
       "      <td>16.8</td>\n",
       "      <td>16.5</td>\n",
       "      <td>28.8</td>\n",
       "      <td>6.4</td>\n",
       "      <td>1.5</td>\n",
       "      <td>1.5</td>\n",
       "      <td>0.4</td>\n",
       "      <td>0.3</td>\n",
       "      <td>5.6</td>\n",
       "      <td>81.0</td>\n",
       "      <td>66.0</td>\n",
       "      <td>2.3</td>\n",
       "    </tr>\n",
       "    <tr>\n",
       "      <th>3</th>\n",
       "      <td>10.85</td>\n",
       "      <td>72.47</td>\n",
       "      <td>4.0</td>\n",
       "      <td>0.00</td>\n",
       "      <td>1012.3</td>\n",
       "      <td>1009.5</td>\n",
       "      <td>26.2</td>\n",
       "      <td>28.7</td>\n",
       "      <td>32.0</td>\n",
       "      <td>22.2</td>\n",
       "      <td>3.1</td>\n",
       "      <td>3.9</td>\n",
       "      <td>2.5</td>\n",
       "      <td>2.9</td>\n",
       "      <td>5.0</td>\n",
       "      <td>81.0</td>\n",
       "      <td>71.0</td>\n",
       "      <td>NaN</td>\n",
       "    </tr>\n",
       "    <tr>\n",
       "      <th>4</th>\n",
       "      <td>27.17</td>\n",
       "      <td>78.03</td>\n",
       "      <td>169.0</td>\n",
       "      <td>751.48</td>\n",
       "      <td>997.0</td>\n",
       "      <td>995.2</td>\n",
       "      <td>10.7</td>\n",
       "      <td>19.8</td>\n",
       "      <td>27.3</td>\n",
       "      <td>4.2</td>\n",
       "      <td>1.3</td>\n",
       "      <td>1.6</td>\n",
       "      <td>0.4</td>\n",
       "      <td>0.4</td>\n",
       "      <td>9.5</td>\n",
       "      <td>77.0</td>\n",
       "      <td>55.0</td>\n",
       "      <td>1.9</td>\n",
       "    </tr>\n",
       "  </tbody>\n",
       "</table>\n",
       "</div>"
      ],
      "text/plain": [
       "   Latitude  Longitude  Absolute elevation  Distance from Coast     AP1  \\\n",
       "0     24.60      72.72              1195.0               253.94     NaN   \n",
       "1     10.33      79.38                 6.0                 2.56  1013.9   \n",
       "2     23.88      91.25                16.0               124.39  1015.2   \n",
       "3     10.85      72.47                 4.0                 0.00  1012.3   \n",
       "4     27.17      78.03               169.0               751.48   997.0   \n",
       "\n",
       "      AP2   DT1   DT2   HTM   LTM  AC1  AC2  LC1  LC2   RFL   RH1   RH2  WSD  \n",
       "0     NaN   8.7  16.3  23.4  -0.7  0.8  1.0  0.4  0.5   3.7  61.0  42.0  2.0  \n",
       "1  1010.4  23.5  27.1  31.9  18.2  3.2  3.4  1.3  1.4  34.5  87.0  70.0  6.7  \n",
       "2  1011.8  16.8  16.5  28.8   6.4  1.5  1.5  0.4  0.3   5.6  81.0  66.0  2.3  \n",
       "3  1009.5  26.2  28.7  32.0  22.2  3.1  3.9  2.5  2.9   5.0  81.0  71.0  NaN  \n",
       "4   995.2  10.7  19.8  27.3   4.2  1.3  1.6  0.4  0.4   9.5  77.0  55.0  1.9  "
      ]
     },
     "execution_count": 2,
     "metadata": {},
     "output_type": "execute_result"
    }
   ],
   "source": [
    "df = pd.read_csv('Database_for_dimensionality_reduction.csv')\n",
    "dfcopy = df.copy()\n",
    "dfcopy1= df.select_dtypes(include=[np.number])\n",
    "dfcopy1.head()"
   ]
  },
  {
   "cell_type": "code",
   "execution_count": 3,
   "metadata": {},
   "outputs": [
    {
     "data": {
      "text/html": [
       "<div>\n",
       "<table border=\"1\" class=\"dataframe\">\n",
       "  <thead>\n",
       "    <tr style=\"text-align: right;\">\n",
       "      <th></th>\n",
       "      <th>Latitude</th>\n",
       "      <th>Longitude</th>\n",
       "      <th>Absolute elevation</th>\n",
       "      <th>Distance from Coast</th>\n",
       "      <th>AP1</th>\n",
       "      <th>AP2</th>\n",
       "      <th>DT1</th>\n",
       "      <th>DT2</th>\n",
       "      <th>HTM</th>\n",
       "      <th>LTM</th>\n",
       "      <th>AC1</th>\n",
       "      <th>AC2</th>\n",
       "      <th>LC1</th>\n",
       "      <th>LC2</th>\n",
       "      <th>RFL</th>\n",
       "      <th>RH1</th>\n",
       "      <th>RH2</th>\n",
       "      <th>WSD</th>\n",
       "    </tr>\n",
       "  </thead>\n",
       "  <tbody>\n",
       "    <tr>\n",
       "      <th>0</th>\n",
       "      <td>24.60</td>\n",
       "      <td>72.72</td>\n",
       "      <td>1195.0</td>\n",
       "      <td>253.94</td>\n",
       "      <td>981.133938</td>\n",
       "      <td>978.160215</td>\n",
       "      <td>8.7</td>\n",
       "      <td>16.3</td>\n",
       "      <td>23.4</td>\n",
       "      <td>-0.7</td>\n",
       "      <td>0.8</td>\n",
       "      <td>1.0</td>\n",
       "      <td>0.4</td>\n",
       "      <td>0.5</td>\n",
       "      <td>3.7</td>\n",
       "      <td>61.0</td>\n",
       "      <td>42.0</td>\n",
       "      <td>2.00000</td>\n",
       "    </tr>\n",
       "    <tr>\n",
       "      <th>1</th>\n",
       "      <td>10.33</td>\n",
       "      <td>79.38</td>\n",
       "      <td>6.0</td>\n",
       "      <td>2.56</td>\n",
       "      <td>1013.900000</td>\n",
       "      <td>1010.400000</td>\n",
       "      <td>23.5</td>\n",
       "      <td>27.1</td>\n",
       "      <td>31.9</td>\n",
       "      <td>18.2</td>\n",
       "      <td>3.2</td>\n",
       "      <td>3.4</td>\n",
       "      <td>1.3</td>\n",
       "      <td>1.4</td>\n",
       "      <td>34.5</td>\n",
       "      <td>87.0</td>\n",
       "      <td>70.0</td>\n",
       "      <td>6.70000</td>\n",
       "    </tr>\n",
       "    <tr>\n",
       "      <th>2</th>\n",
       "      <td>23.88</td>\n",
       "      <td>91.25</td>\n",
       "      <td>16.0</td>\n",
       "      <td>124.39</td>\n",
       "      <td>1015.200000</td>\n",
       "      <td>1011.800000</td>\n",
       "      <td>16.8</td>\n",
       "      <td>16.5</td>\n",
       "      <td>28.8</td>\n",
       "      <td>6.4</td>\n",
       "      <td>1.5</td>\n",
       "      <td>1.5</td>\n",
       "      <td>0.4</td>\n",
       "      <td>0.3</td>\n",
       "      <td>5.6</td>\n",
       "      <td>81.0</td>\n",
       "      <td>66.0</td>\n",
       "      <td>2.30000</td>\n",
       "    </tr>\n",
       "    <tr>\n",
       "      <th>3</th>\n",
       "      <td>10.85</td>\n",
       "      <td>72.47</td>\n",
       "      <td>4.0</td>\n",
       "      <td>0.00</td>\n",
       "      <td>1012.300000</td>\n",
       "      <td>1009.500000</td>\n",
       "      <td>26.2</td>\n",
       "      <td>28.7</td>\n",
       "      <td>32.0</td>\n",
       "      <td>22.2</td>\n",
       "      <td>3.1</td>\n",
       "      <td>3.9</td>\n",
       "      <td>2.5</td>\n",
       "      <td>2.9</td>\n",
       "      <td>5.0</td>\n",
       "      <td>81.0</td>\n",
       "      <td>71.0</td>\n",
       "      <td>4.79115</td>\n",
       "    </tr>\n",
       "    <tr>\n",
       "      <th>4</th>\n",
       "      <td>27.17</td>\n",
       "      <td>78.03</td>\n",
       "      <td>169.0</td>\n",
       "      <td>751.48</td>\n",
       "      <td>997.000000</td>\n",
       "      <td>995.200000</td>\n",
       "      <td>10.7</td>\n",
       "      <td>19.8</td>\n",
       "      <td>27.3</td>\n",
       "      <td>4.2</td>\n",
       "      <td>1.3</td>\n",
       "      <td>1.6</td>\n",
       "      <td>0.4</td>\n",
       "      <td>0.4</td>\n",
       "      <td>9.5</td>\n",
       "      <td>77.0</td>\n",
       "      <td>55.0</td>\n",
       "      <td>1.90000</td>\n",
       "    </tr>\n",
       "  </tbody>\n",
       "</table>\n",
       "</div>"
      ],
      "text/plain": [
       "   Latitude  Longitude  Absolute elevation  Distance from Coast          AP1  \\\n",
       "0     24.60      72.72              1195.0               253.94   981.133938   \n",
       "1     10.33      79.38                 6.0                 2.56  1013.900000   \n",
       "2     23.88      91.25                16.0               124.39  1015.200000   \n",
       "3     10.85      72.47                 4.0                 0.00  1012.300000   \n",
       "4     27.17      78.03               169.0               751.48   997.000000   \n",
       "\n",
       "           AP2   DT1   DT2   HTM   LTM  AC1  AC2  LC1  LC2   RFL   RH1   RH2  \\\n",
       "0   978.160215   8.7  16.3  23.4  -0.7  0.8  1.0  0.4  0.5   3.7  61.0  42.0   \n",
       "1  1010.400000  23.5  27.1  31.9  18.2  3.2  3.4  1.3  1.4  34.5  87.0  70.0   \n",
       "2  1011.800000  16.8  16.5  28.8   6.4  1.5  1.5  0.4  0.3   5.6  81.0  66.0   \n",
       "3  1009.500000  26.2  28.7  32.0  22.2  3.1  3.9  2.5  2.9   5.0  81.0  71.0   \n",
       "4   995.200000  10.7  19.8  27.3   4.2  1.3  1.6  0.4  0.4   9.5  77.0  55.0   \n",
       "\n",
       "       WSD  \n",
       "0  2.00000  \n",
       "1  6.70000  \n",
       "2  2.30000  \n",
       "3  4.79115  \n",
       "4  1.90000  "
      ]
     },
     "execution_count": 3,
     "metadata": {},
     "output_type": "execute_result"
    }
   ],
   "source": [
    "for column in dfcopy1: \n",
    "        meani = dfcopy[column].mean()\n",
    "        dfcopy1[column].fillna(meani, inplace=True)\n",
    "dfcopy1.head()"
   ]
  },
  {
   "cell_type": "code",
   "execution_count": 4,
   "metadata": {},
   "outputs": [
    {
     "data": {
      "text/html": [
       "<div>\n",
       "<table border=\"1\" class=\"dataframe\">\n",
       "  <thead>\n",
       "    <tr style=\"text-align: right;\">\n",
       "      <th></th>\n",
       "      <th>AP1</th>\n",
       "      <th>AP2</th>\n",
       "      <th>DT1</th>\n",
       "      <th>DT2</th>\n",
       "      <th>HTM</th>\n",
       "      <th>LTM</th>\n",
       "      <th>AC1</th>\n",
       "      <th>AC2</th>\n",
       "      <th>LC1</th>\n",
       "      <th>LC2</th>\n",
       "      <th>RFL</th>\n",
       "      <th>RH1</th>\n",
       "      <th>RH2</th>\n",
       "      <th>WSD</th>\n",
       "    </tr>\n",
       "  </thead>\n",
       "  <tbody>\n",
       "    <tr>\n",
       "      <th>0</th>\n",
       "      <td>981.133938</td>\n",
       "      <td>978.160215</td>\n",
       "      <td>8.7</td>\n",
       "      <td>16.3</td>\n",
       "      <td>23.4</td>\n",
       "      <td>-0.7</td>\n",
       "      <td>0.8</td>\n",
       "      <td>1.0</td>\n",
       "      <td>0.4</td>\n",
       "      <td>0.5</td>\n",
       "      <td>3.7</td>\n",
       "      <td>61.0</td>\n",
       "      <td>42.0</td>\n",
       "      <td>2.00000</td>\n",
       "    </tr>\n",
       "    <tr>\n",
       "      <th>1</th>\n",
       "      <td>1013.900000</td>\n",
       "      <td>1010.400000</td>\n",
       "      <td>23.5</td>\n",
       "      <td>27.1</td>\n",
       "      <td>31.9</td>\n",
       "      <td>18.2</td>\n",
       "      <td>3.2</td>\n",
       "      <td>3.4</td>\n",
       "      <td>1.3</td>\n",
       "      <td>1.4</td>\n",
       "      <td>34.5</td>\n",
       "      <td>87.0</td>\n",
       "      <td>70.0</td>\n",
       "      <td>6.70000</td>\n",
       "    </tr>\n",
       "    <tr>\n",
       "      <th>2</th>\n",
       "      <td>1015.200000</td>\n",
       "      <td>1011.800000</td>\n",
       "      <td>16.8</td>\n",
       "      <td>16.5</td>\n",
       "      <td>28.8</td>\n",
       "      <td>6.4</td>\n",
       "      <td>1.5</td>\n",
       "      <td>1.5</td>\n",
       "      <td>0.4</td>\n",
       "      <td>0.3</td>\n",
       "      <td>5.6</td>\n",
       "      <td>81.0</td>\n",
       "      <td>66.0</td>\n",
       "      <td>2.30000</td>\n",
       "    </tr>\n",
       "    <tr>\n",
       "      <th>3</th>\n",
       "      <td>1012.300000</td>\n",
       "      <td>1009.500000</td>\n",
       "      <td>26.2</td>\n",
       "      <td>28.7</td>\n",
       "      <td>32.0</td>\n",
       "      <td>22.2</td>\n",
       "      <td>3.1</td>\n",
       "      <td>3.9</td>\n",
       "      <td>2.5</td>\n",
       "      <td>2.9</td>\n",
       "      <td>5.0</td>\n",
       "      <td>81.0</td>\n",
       "      <td>71.0</td>\n",
       "      <td>4.79115</td>\n",
       "    </tr>\n",
       "    <tr>\n",
       "      <th>4</th>\n",
       "      <td>997.000000</td>\n",
       "      <td>995.200000</td>\n",
       "      <td>10.7</td>\n",
       "      <td>19.8</td>\n",
       "      <td>27.3</td>\n",
       "      <td>4.2</td>\n",
       "      <td>1.3</td>\n",
       "      <td>1.6</td>\n",
       "      <td>0.4</td>\n",
       "      <td>0.4</td>\n",
       "      <td>9.5</td>\n",
       "      <td>77.0</td>\n",
       "      <td>55.0</td>\n",
       "      <td>1.90000</td>\n",
       "    </tr>\n",
       "  </tbody>\n",
       "</table>\n",
       "</div>"
      ],
      "text/plain": [
       "           AP1          AP2   DT1   DT2   HTM   LTM  AC1  AC2  LC1  LC2   RFL  \\\n",
       "0   981.133938   978.160215   8.7  16.3  23.4  -0.7  0.8  1.0  0.4  0.5   3.7   \n",
       "1  1013.900000  1010.400000  23.5  27.1  31.9  18.2  3.2  3.4  1.3  1.4  34.5   \n",
       "2  1015.200000  1011.800000  16.8  16.5  28.8   6.4  1.5  1.5  0.4  0.3   5.6   \n",
       "3  1012.300000  1009.500000  26.2  28.7  32.0  22.2  3.1  3.9  2.5  2.9   5.0   \n",
       "4   997.000000   995.200000  10.7  19.8  27.3   4.2  1.3  1.6  0.4  0.4   9.5   \n",
       "\n",
       "    RH1   RH2      WSD  \n",
       "0  61.0  42.0  2.00000  \n",
       "1  87.0  70.0  6.70000  \n",
       "2  81.0  66.0  2.30000  \n",
       "3  81.0  71.0  4.79115  \n",
       "4  77.0  55.0  1.90000  "
      ]
     },
     "execution_count": 4,
     "metadata": {},
     "output_type": "execute_result"
    }
   ],
   "source": [
    "df_act = dfcopy1[[\"AP1\",\"AP2\",\"DT1\",\"DT2\",\"HTM\",\"LTM\",\"AC1\",\"AC2\",\"LC1\",\"LC2\",\"RFL\",\"RH1\",\"RH2\",\"WSD\"]]\n",
    "df_act.head()"
   ]
  },
  {
   "cell_type": "markdown",
   "metadata": {},
   "source": [
    "## scaling"
   ]
  },
  {
   "cell_type": "code",
   "execution_count": 5,
   "metadata": {},
   "outputs": [
    {
     "data": {
      "text/html": [
       "<div>\n",
       "<table border=\"1\" class=\"dataframe\">\n",
       "  <thead>\n",
       "    <tr style=\"text-align: right;\">\n",
       "      <th></th>\n",
       "      <th>AP1</th>\n",
       "      <th>AP2</th>\n",
       "      <th>DT1</th>\n",
       "      <th>DT2</th>\n",
       "      <th>HTM</th>\n",
       "      <th>LTM</th>\n",
       "      <th>AC1</th>\n",
       "      <th>AC2</th>\n",
       "      <th>LC1</th>\n",
       "      <th>LC2</th>\n",
       "      <th>RFL</th>\n",
       "      <th>RH1</th>\n",
       "      <th>RH2</th>\n",
       "      <th>WSD</th>\n",
       "    </tr>\n",
       "  </thead>\n",
       "  <tbody>\n",
       "    <tr>\n",
       "      <th>0</th>\n",
       "      <td>0.000000</td>\n",
       "      <td>-2.727827e-15</td>\n",
       "      <td>-1.276985</td>\n",
       "      <td>-1.097900</td>\n",
       "      <td>-1.221526</td>\n",
       "      <td>-1.489278</td>\n",
       "      <td>-1.138579</td>\n",
       "      <td>-0.966943</td>\n",
       "      <td>-0.697620</td>\n",
       "      <td>-0.523512</td>\n",
       "      <td>-0.479262</td>\n",
       "      <td>-1.292516</td>\n",
       "      <td>-0.886205</td>\n",
       "      <td>-1.053900</td>\n",
       "    </tr>\n",
       "    <tr>\n",
       "      <th>1</th>\n",
       "      <td>0.772602</td>\n",
       "      <td>7.735684e-01</td>\n",
       "      <td>1.310352</td>\n",
       "      <td>0.776498</td>\n",
       "      <td>0.608600</td>\n",
       "      <td>1.561643</td>\n",
       "      <td>1.208692</td>\n",
       "      <td>1.256700</td>\n",
       "      <td>0.591070</td>\n",
       "      <td>0.641758</td>\n",
       "      <td>0.616722</td>\n",
       "      <td>1.460395</td>\n",
       "      <td>1.181177</td>\n",
       "      <td>0.720755</td>\n",
       "    </tr>\n",
       "    <tr>\n",
       "      <th>2</th>\n",
       "      <td>0.803255</td>\n",
       "      <td>8.071603e-01</td>\n",
       "      <td>0.139058</td>\n",
       "      <td>-1.063189</td>\n",
       "      <td>-0.058858</td>\n",
       "      <td>-0.343165</td>\n",
       "      <td>-0.453958</td>\n",
       "      <td>-0.503684</td>\n",
       "      <td>-0.697620</td>\n",
       "      <td>-0.782460</td>\n",
       "      <td>-0.411652</td>\n",
       "      <td>0.825108</td>\n",
       "      <td>0.885837</td>\n",
       "      <td>-0.940624</td>\n",
       "    </tr>\n",
       "    <tr>\n",
       "      <th>3</th>\n",
       "      <td>0.734875</td>\n",
       "      <td>7.519736e-01</td>\n",
       "      <td>1.782367</td>\n",
       "      <td>1.054186</td>\n",
       "      <td>0.630130</td>\n",
       "      <td>2.207341</td>\n",
       "      <td>1.110889</td>\n",
       "      <td>1.719959</td>\n",
       "      <td>2.309324</td>\n",
       "      <td>2.583873</td>\n",
       "      <td>-0.433003</td>\n",
       "      <td>0.825108</td>\n",
       "      <td>1.255013</td>\n",
       "      <td>0.000000</td>\n",
       "    </tr>\n",
       "    <tr>\n",
       "      <th>4</th>\n",
       "      <td>0.374111</td>\n",
       "      <td>4.088563e-01</td>\n",
       "      <td>-0.927345</td>\n",
       "      <td>-0.490456</td>\n",
       "      <td>-0.381821</td>\n",
       "      <td>-0.698298</td>\n",
       "      <td>-0.649564</td>\n",
       "      <td>-0.411032</td>\n",
       "      <td>-0.697620</td>\n",
       "      <td>-0.652986</td>\n",
       "      <td>-0.272875</td>\n",
       "      <td>0.401583</td>\n",
       "      <td>0.073651</td>\n",
       "      <td>-1.091658</td>\n",
       "    </tr>\n",
       "  </tbody>\n",
       "</table>\n",
       "</div>"
      ],
      "text/plain": [
       "        AP1           AP2       DT1       DT2       HTM       LTM       AC1  \\\n",
       "0  0.000000 -2.727827e-15 -1.276985 -1.097900 -1.221526 -1.489278 -1.138579   \n",
       "1  0.772602  7.735684e-01  1.310352  0.776498  0.608600  1.561643  1.208692   \n",
       "2  0.803255  8.071603e-01  0.139058 -1.063189 -0.058858 -0.343165 -0.453958   \n",
       "3  0.734875  7.519736e-01  1.782367  1.054186  0.630130  2.207341  1.110889   \n",
       "4  0.374111  4.088563e-01 -0.927345 -0.490456 -0.381821 -0.698298 -0.649564   \n",
       "\n",
       "        AC2       LC1       LC2       RFL       RH1       RH2       WSD  \n",
       "0 -0.966943 -0.697620 -0.523512 -0.479262 -1.292516 -0.886205 -1.053900  \n",
       "1  1.256700  0.591070  0.641758  0.616722  1.460395  1.181177  0.720755  \n",
       "2 -0.503684 -0.697620 -0.782460 -0.411652  0.825108  0.885837 -0.940624  \n",
       "3  1.719959  2.309324  2.583873 -0.433003  0.825108  1.255013  0.000000  \n",
       "4 -0.411032 -0.697620 -0.652986 -0.272875  0.401583  0.073651 -1.091658  "
      ]
     },
     "execution_count": 5,
     "metadata": {},
     "output_type": "execute_result"
    }
   ],
   "source": [
    "sc= StandardScaler()\n",
    "df_scale = sc.fit_transform(df_act)\n",
    "df_scale = pd.DataFrame(df_scale, columns = df_act.columns)\n",
    "df_scale.head()"
   ]
  },
  {
   "cell_type": "markdown",
   "metadata": {},
   "source": [
    "## splitting into label and feature"
   ]
  },
  {
   "cell_type": "code",
   "execution_count": 6,
   "metadata": {},
   "outputs": [
    {
     "data": {
      "text/plain": [
       "0    0.000000\n",
       "1    0.772602\n",
       "2    0.803255\n",
       "3    0.734875\n",
       "4    0.374111\n",
       "Name: AP1, dtype: float64"
      ]
     },
     "execution_count": 6,
     "metadata": {},
     "output_type": "execute_result"
    }
   ],
   "source": [
    "Y_label = df_scale[\"AP1\"]\n",
    "Y_label[:5]"
   ]
  },
  {
   "cell_type": "code",
   "execution_count": 7,
   "metadata": {
    "collapsed": true
   },
   "outputs": [],
   "source": [
    "df_scale.drop(\"AP1\", axis = 1, inplace = True)\n",
    "X_label = df_scale\n",
    "#X_label.head()"
   ]
  },
  {
   "cell_type": "code",
   "execution_count": 8,
   "metadata": {},
   "outputs": [
    {
     "data": {
      "text/html": [
       "<div>\n",
       "<table border=\"1\" class=\"dataframe\">\n",
       "  <thead>\n",
       "    <tr style=\"text-align: right;\">\n",
       "      <th></th>\n",
       "      <th>AP2</th>\n",
       "      <th>DT1</th>\n",
       "      <th>DT2</th>\n",
       "      <th>HTM</th>\n",
       "      <th>LTM</th>\n",
       "      <th>AC1</th>\n",
       "      <th>AC2</th>\n",
       "      <th>LC1</th>\n",
       "      <th>LC2</th>\n",
       "      <th>RFL</th>\n",
       "      <th>RH1</th>\n",
       "      <th>RH2</th>\n",
       "      <th>WSD</th>\n",
       "    </tr>\n",
       "  </thead>\n",
       "  <tbody>\n",
       "    <tr>\n",
       "      <th>0</th>\n",
       "      <td>-2.727827e-15</td>\n",
       "      <td>-1.276985</td>\n",
       "      <td>-1.097900</td>\n",
       "      <td>-1.221526</td>\n",
       "      <td>-1.489278</td>\n",
       "      <td>-1.138579</td>\n",
       "      <td>-0.966943</td>\n",
       "      <td>-0.697620</td>\n",
       "      <td>-0.523512</td>\n",
       "      <td>-0.479262</td>\n",
       "      <td>-1.292516</td>\n",
       "      <td>-0.886205</td>\n",
       "      <td>-1.053900</td>\n",
       "    </tr>\n",
       "    <tr>\n",
       "      <th>1</th>\n",
       "      <td>7.735684e-01</td>\n",
       "      <td>1.310352</td>\n",
       "      <td>0.776498</td>\n",
       "      <td>0.608600</td>\n",
       "      <td>1.561643</td>\n",
       "      <td>1.208692</td>\n",
       "      <td>1.256700</td>\n",
       "      <td>0.591070</td>\n",
       "      <td>0.641758</td>\n",
       "      <td>0.616722</td>\n",
       "      <td>1.460395</td>\n",
       "      <td>1.181177</td>\n",
       "      <td>0.720755</td>\n",
       "    </tr>\n",
       "    <tr>\n",
       "      <th>2</th>\n",
       "      <td>8.071603e-01</td>\n",
       "      <td>0.139058</td>\n",
       "      <td>-1.063189</td>\n",
       "      <td>-0.058858</td>\n",
       "      <td>-0.343165</td>\n",
       "      <td>-0.453958</td>\n",
       "      <td>-0.503684</td>\n",
       "      <td>-0.697620</td>\n",
       "      <td>-0.782460</td>\n",
       "      <td>-0.411652</td>\n",
       "      <td>0.825108</td>\n",
       "      <td>0.885837</td>\n",
       "      <td>-0.940624</td>\n",
       "    </tr>\n",
       "    <tr>\n",
       "      <th>3</th>\n",
       "      <td>7.519736e-01</td>\n",
       "      <td>1.782367</td>\n",
       "      <td>1.054186</td>\n",
       "      <td>0.630130</td>\n",
       "      <td>2.207341</td>\n",
       "      <td>1.110889</td>\n",
       "      <td>1.719959</td>\n",
       "      <td>2.309324</td>\n",
       "      <td>2.583873</td>\n",
       "      <td>-0.433003</td>\n",
       "      <td>0.825108</td>\n",
       "      <td>1.255013</td>\n",
       "      <td>0.000000</td>\n",
       "    </tr>\n",
       "    <tr>\n",
       "      <th>4</th>\n",
       "      <td>4.088563e-01</td>\n",
       "      <td>-0.927345</td>\n",
       "      <td>-0.490456</td>\n",
       "      <td>-0.381821</td>\n",
       "      <td>-0.698298</td>\n",
       "      <td>-0.649564</td>\n",
       "      <td>-0.411032</td>\n",
       "      <td>-0.697620</td>\n",
       "      <td>-0.652986</td>\n",
       "      <td>-0.272875</td>\n",
       "      <td>0.401583</td>\n",
       "      <td>0.073651</td>\n",
       "      <td>-1.091658</td>\n",
       "    </tr>\n",
       "  </tbody>\n",
       "</table>\n",
       "</div>"
      ],
      "text/plain": [
       "            AP2       DT1       DT2       HTM       LTM       AC1       AC2  \\\n",
       "0 -2.727827e-15 -1.276985 -1.097900 -1.221526 -1.489278 -1.138579 -0.966943   \n",
       "1  7.735684e-01  1.310352  0.776498  0.608600  1.561643  1.208692  1.256700   \n",
       "2  8.071603e-01  0.139058 -1.063189 -0.058858 -0.343165 -0.453958 -0.503684   \n",
       "3  7.519736e-01  1.782367  1.054186  0.630130  2.207341  1.110889  1.719959   \n",
       "4  4.088563e-01 -0.927345 -0.490456 -0.381821 -0.698298 -0.649564 -0.411032   \n",
       "\n",
       "        LC1       LC2       RFL       RH1       RH2       WSD  \n",
       "0 -0.697620 -0.523512 -0.479262 -1.292516 -0.886205 -1.053900  \n",
       "1  0.591070  0.641758  0.616722  1.460395  1.181177  0.720755  \n",
       "2 -0.697620 -0.782460 -0.411652  0.825108  0.885837 -0.940624  \n",
       "3  2.309324  2.583873 -0.433003  0.825108  1.255013  0.000000  \n",
       "4 -0.697620 -0.652986 -0.272875  0.401583  0.073651 -1.091658  "
      ]
     },
     "execution_count": 8,
     "metadata": {},
     "output_type": "execute_result"
    }
   ],
   "source": [
    "X_label.head()"
   ]
  },
  {
   "cell_type": "markdown",
   "metadata": {},
   "source": [
    "# SVD"
   ]
  },
  {
   "cell_type": "code",
   "execution_count": 9,
   "metadata": {
    "collapsed": true
   },
   "outputs": [],
   "source": [
    "U, S, Vt = np.linalg.svd(X_label)"
   ]
  },
  {
   "cell_type": "code",
   "execution_count": 10,
   "metadata": {
    "scrolled": true
   },
   "outputs": [
    {
     "data": {
      "text/plain": [
       "array([ 48.50119431,  35.67854355,  24.39492154,  18.93786092,\n",
       "        15.93780367,  14.61732492,  12.45247485,   9.26500338,\n",
       "         7.32264817,   5.59523276,   5.27411081,   3.47500462,   2.91839142])"
      ]
     },
     "execution_count": 10,
     "metadata": {},
     "output_type": "execute_result"
    }
   ],
   "source": [
    "S"
   ]
  },
  {
   "cell_type": "code",
   "execution_count": 11,
   "metadata": {},
   "outputs": [
    {
     "data": {
      "text/plain": [
       "(8, array([  23.73199203,   41.18976649,   53.12638149,   62.39281648,\n",
       "          70.19130135,   77.34366622,   83.43675399,   87.97018846,\n",
       "          91.55321421,   94.29100286,   96.87166417,   98.57200956,  100.        ]))"
      ]
     },
     "execution_count": 11,
     "metadata": {},
     "output_type": "execute_result"
    }
   ],
   "source": [
    "# Cum = S/S.sum()*100\n",
    "# Cum = Cum.cumsum()\n",
    "# k=0\n",
    "# for i in range(len(Cum)):\n",
    "#     if (Cum[i] >= 90):\n",
    "#         k = i;\n",
    "#         break\n",
    "# k, Cum"
   ]
  },
  {
   "cell_type": "code",
   "execution_count": 12,
   "metadata": {
    "collapsed": true
   },
   "outputs": [],
   "source": [
    "k = 5"
   ]
  },
  {
   "cell_type": "code",
   "execution_count": 44,
   "metadata": {
    "collapsed": true
   },
   "outputs": [],
   "source": [
    "S1 = np.zeros((X_label.shape[0], X_label.shape[1]))\n",
    "S1[:X_label.shape[1], :X_label.shape[1]] = np.diag(S)"
   ]
  },
  {
   "cell_type": "code",
   "execution_count": 45,
   "metadata": {},
   "outputs": [
    {
     "data": {
      "text/plain": [
       "(417, 13)"
      ]
     },
     "execution_count": 45,
     "metadata": {},
     "output_type": "execute_result"
    }
   ],
   "source": [
    "S1.shape"
   ]
  },
  {
   "cell_type": "code",
   "execution_count": 15,
   "metadata": {},
   "outputs": [
    {
     "data": {
      "text/plain": [
       "((13, 13), (417, 417))"
      ]
     },
     "execution_count": 15,
     "metadata": {},
     "output_type": "execute_result"
    }
   ],
   "source": [
    "Vt.shape,U.shape"
   ]
  },
  {
   "cell_type": "code",
   "execution_count": 46,
   "metadata": {},
   "outputs": [
    {
     "data": {
      "text/plain": [
       "((417, 5), (5, 13))"
      ]
     },
     "execution_count": 46,
     "metadata": {},
     "output_type": "execute_result"
    }
   ],
   "source": [
    "Vt1 = Vt[:5,:]\n",
    "S11 = S1[:,:5]\n",
    "S11.shape, Vt1.shape"
   ]
  },
  {
   "cell_type": "code",
   "execution_count": 59,
   "metadata": {
    "collapsed": true
   },
   "outputs": [],
   "source": [
    "X_label_Reconstruct = U.dot(S11.dot(Vt1))"
   ]
  },
  {
   "cell_type": "code",
   "execution_count": 60,
   "metadata": {},
   "outputs": [
    {
     "data": {
      "text/html": [
       "<div>\n",
       "<table border=\"1\" class=\"dataframe\">\n",
       "  <thead>\n",
       "    <tr style=\"text-align: right;\">\n",
       "      <th></th>\n",
       "      <th>AP2</th>\n",
       "      <th>DT1</th>\n",
       "      <th>DT2</th>\n",
       "      <th>HTM</th>\n",
       "      <th>LTM</th>\n",
       "      <th>AC1</th>\n",
       "      <th>AC2</th>\n",
       "      <th>LC1</th>\n",
       "      <th>LC2</th>\n",
       "      <th>RFL</th>\n",
       "      <th>RH1</th>\n",
       "      <th>RH2</th>\n",
       "      <th>WSD</th>\n",
       "    </tr>\n",
       "  </thead>\n",
       "  <tbody>\n",
       "    <tr>\n",
       "      <th>0</th>\n",
       "      <td>-0.599188</td>\n",
       "      <td>-1.466125</td>\n",
       "      <td>-0.896661</td>\n",
       "      <td>-0.739644</td>\n",
       "      <td>-1.607098</td>\n",
       "      <td>-1.120000</td>\n",
       "      <td>-1.014228</td>\n",
       "      <td>-0.896258</td>\n",
       "      <td>-0.743475</td>\n",
       "      <td>-0.079042</td>\n",
       "      <td>-0.739403</td>\n",
       "      <td>-0.845989</td>\n",
       "      <td>-0.834809</td>\n",
       "    </tr>\n",
       "    <tr>\n",
       "      <th>1</th>\n",
       "      <td>1.009082</td>\n",
       "      <td>1.356798</td>\n",
       "      <td>0.684030</td>\n",
       "      <td>0.554271</td>\n",
       "      <td>1.527380</td>\n",
       "      <td>1.241604</td>\n",
       "      <td>1.027112</td>\n",
       "      <td>1.002498</td>\n",
       "      <td>0.686315</td>\n",
       "      <td>0.425190</td>\n",
       "      <td>1.168000</td>\n",
       "      <td>1.225681</td>\n",
       "      <td>0.668955</td>\n",
       "    </tr>\n",
       "    <tr>\n",
       "      <th>2</th>\n",
       "      <td>0.839071</td>\n",
       "      <td>-0.360539</td>\n",
       "      <td>-0.391750</td>\n",
       "      <td>-0.273301</td>\n",
       "      <td>-0.370274</td>\n",
       "      <td>-0.519934</td>\n",
       "      <td>-0.704009</td>\n",
       "      <td>-0.434237</td>\n",
       "      <td>-0.711615</td>\n",
       "      <td>-0.378663</td>\n",
       "      <td>1.088139</td>\n",
       "      <td>0.733362</td>\n",
       "      <td>-0.660663</td>\n",
       "    </tr>\n",
       "    <tr>\n",
       "      <th>3</th>\n",
       "      <td>0.099262</td>\n",
       "      <td>1.808625</td>\n",
       "      <td>1.188668</td>\n",
       "      <td>0.864234</td>\n",
       "      <td>1.983415</td>\n",
       "      <td>1.915838</td>\n",
       "      <td>1.895195</td>\n",
       "      <td>1.813288</td>\n",
       "      <td>1.728677</td>\n",
       "      <td>-0.212286</td>\n",
       "      <td>1.413143</td>\n",
       "      <td>1.060334</td>\n",
       "      <td>0.158488</td>\n",
       "    </tr>\n",
       "    <tr>\n",
       "      <th>4</th>\n",
       "      <td>0.300064</td>\n",
       "      <td>-0.746383</td>\n",
       "      <td>-0.487165</td>\n",
       "      <td>-0.372849</td>\n",
       "      <td>-0.815226</td>\n",
       "      <td>-0.652689</td>\n",
       "      <td>-0.734225</td>\n",
       "      <td>-0.487817</td>\n",
       "      <td>-0.619378</td>\n",
       "      <td>-0.198148</td>\n",
       "      <td>0.484056</td>\n",
       "      <td>0.048562</td>\n",
       "      <td>-1.030800</td>\n",
       "    </tr>\n",
       "  </tbody>\n",
       "</table>\n",
       "</div>"
      ],
      "text/plain": [
       "        AP2       DT1       DT2       HTM       LTM       AC1       AC2  \\\n",
       "0 -0.599188 -1.466125 -0.896661 -0.739644 -1.607098 -1.120000 -1.014228   \n",
       "1  1.009082  1.356798  0.684030  0.554271  1.527380  1.241604  1.027112   \n",
       "2  0.839071 -0.360539 -0.391750 -0.273301 -0.370274 -0.519934 -0.704009   \n",
       "3  0.099262  1.808625  1.188668  0.864234  1.983415  1.915838  1.895195   \n",
       "4  0.300064 -0.746383 -0.487165 -0.372849 -0.815226 -0.652689 -0.734225   \n",
       "\n",
       "        LC1       LC2       RFL       RH1       RH2       WSD  \n",
       "0 -0.896258 -0.743475 -0.079042 -0.739403 -0.845989 -0.834809  \n",
       "1  1.002498  0.686315  0.425190  1.168000  1.225681  0.668955  \n",
       "2 -0.434237 -0.711615 -0.378663  1.088139  0.733362 -0.660663  \n",
       "3  1.813288  1.728677 -0.212286  1.413143  1.060334  0.158488  \n",
       "4 -0.487817 -0.619378 -0.198148  0.484056  0.048562 -1.030800  "
      ]
     },
     "execution_count": 60,
     "metadata": {},
     "output_type": "execute_result"
    }
   ],
   "source": [
    "X_label_Reconstruct = pd.DataFrame(X_label_Reconstruct, columns = X_label.columns)\n",
    "X_label_Reconstruct.head()"
   ]
  },
  {
   "cell_type": "code",
   "execution_count": 68,
   "metadata": {},
   "outputs": [
    {
     "data": {
      "text/html": [
       "<div>\n",
       "<table border=\"1\" class=\"dataframe\">\n",
       "  <thead>\n",
       "    <tr style=\"text-align: right;\">\n",
       "      <th></th>\n",
       "      <th>0</th>\n",
       "      <th>1</th>\n",
       "      <th>2</th>\n",
       "      <th>3</th>\n",
       "      <th>4</th>\n",
       "    </tr>\n",
       "  </thead>\n",
       "  <tbody>\n",
       "    <tr>\n",
       "      <th>0</th>\n",
       "      <td>0.098637</td>\n",
       "      <td>3.466396</td>\n",
       "      <td>0.090657</td>\n",
       "      <td>0.095351</td>\n",
       "      <td>0.064083</td>\n",
       "    </tr>\n",
       "    <tr>\n",
       "      <th>1</th>\n",
       "      <td>-0.522637</td>\n",
       "      <td>-3.537994</td>\n",
       "      <td>-0.791520</td>\n",
       "      <td>0.039084</td>\n",
       "      <td>-0.340500</td>\n",
       "    </tr>\n",
       "    <tr>\n",
       "      <th>2</th>\n",
       "      <td>0.276852</td>\n",
       "      <td>0.772425</td>\n",
       "      <td>-2.048505</td>\n",
       "      <td>0.078149</td>\n",
       "      <td>0.293546</td>\n",
       "    </tr>\n",
       "    <tr>\n",
       "      <th>3</th>\n",
       "      <td>-1.202745</td>\n",
       "      <td>-4.733389</td>\n",
       "      <td>0.031446</td>\n",
       "      <td>-1.457069</td>\n",
       "      <td>0.359363</td>\n",
       "    </tr>\n",
       "    <tr>\n",
       "      <th>4</th>\n",
       "      <td>0.110755</td>\n",
       "      <td>1.706241</td>\n",
       "      <td>-1.268189</td>\n",
       "      <td>-0.278659</td>\n",
       "      <td>0.061246</td>\n",
       "    </tr>\n",
       "  </tbody>\n",
       "</table>\n",
       "</div>"
      ],
      "text/plain": [
       "          0         1         2         3         4\n",
       "0  0.098637  3.466396  0.090657  0.095351  0.064083\n",
       "1 -0.522637 -3.537994 -0.791520  0.039084 -0.340500\n",
       "2  0.276852  0.772425 -2.048505  0.078149  0.293546\n",
       "3 -1.202745 -4.733389  0.031446 -1.457069  0.359363\n",
       "4  0.110755  1.706241 -1.268189 -0.278659  0.061246"
      ]
     },
     "execution_count": 68,
     "metadata": {},
     "output_type": "execute_result"
    }
   ],
   "source": [
    "X_label_Transformed = X_label_Reconstruct.dot(Vt1.T)\n",
    "X_label_Transformed.head()"
   ]
  },
  {
   "cell_type": "markdown",
   "metadata": {},
   "source": [
    "# SVD MATHEMATICAL"
   ]
  },
  {
   "cell_type": "code",
   "execution_count": 19,
   "metadata": {
    "collapsed": true
   },
   "outputs": [],
   "source": [
    "temp1 = (X_label.T).dot(X_label)\n",
    "temp2 = (X_label).dot(X_label.T)"
   ]
  },
  {
   "cell_type": "code",
   "execution_count": 20,
   "metadata": {},
   "outputs": [
    {
     "data": {
      "text/plain": [
       "((13, 13), (417, 417))"
      ]
     },
     "execution_count": 20,
     "metadata": {},
     "output_type": "execute_result"
    }
   ],
   "source": [
    "temp1.shape, temp2.shape"
   ]
  },
  {
   "cell_type": "code",
   "execution_count": 21,
   "metadata": {
    "collapsed": true
   },
   "outputs": [],
   "source": [
    "eigval_V, eigvec_V = np.linalg.eig(temp1)\n",
    "eigval_U, eigvec_U = np.linalg.eig(temp2)"
   ]
  },
  {
   "cell_type": "code",
   "execution_count": 22,
   "metadata": {},
   "outputs": [
    {
     "data": {
      "text/plain": [
       "((417, 417), (13, 13))"
      ]
     },
     "execution_count": 22,
     "metadata": {},
     "output_type": "execute_result"
    }
   ],
   "source": [
    "eigvec_U.shape, eigvec_V.shape"
   ]
  },
  {
   "cell_type": "code",
   "execution_count": 29,
   "metadata": {
    "collapsed": true
   },
   "outputs": [],
   "source": [
    "temp3 = eigval_V**0.5"
   ]
  },
  {
   "cell_type": "code",
   "execution_count": 31,
   "metadata": {},
   "outputs": [
    {
     "data": {
      "text/plain": [
       "(417, 13)"
      ]
     },
     "execution_count": 31,
     "metadata": {},
     "output_type": "execute_result"
    }
   ],
   "source": [
    "Sigma = np.zeros((X_label.shape[0], X_label.shape[1]))\n",
    "Sigma[:X_label.shape[1], :X_label.shape[1]] = np.diag(temp3)\n",
    "Sigma.shape"
   ]
  },
  {
   "cell_type": "code",
   "execution_count": 82,
   "metadata": {},
   "outputs": [
    {
     "data": {
      "text/plain": [
       "((417, 5), (5, 13))"
      ]
     },
     "execution_count": 82,
     "metadata": {},
     "output_type": "execute_result"
    }
   ],
   "source": [
    "# we can see that S ans Sigma are same....\n",
    "#we will take k = 5\n",
    "Vt_m = eigvec_V.T[:5,:]\n",
    "Sigma = Sigma[:,:5]\n",
    "Sigma.shape, V_m.shape"
   ]
  },
  {
   "cell_type": "code",
   "execution_count": 95,
   "metadata": {},
   "outputs": [
    {
     "data": {
      "text/plain": [
       "array([[-0.0020337 ,  0.09715631, -0.00371624,  0.00503492, -0.00402082,\n",
       "        -0.00427098,  0.08224438, -0.00272335, -0.01349167,  0.05632923,\n",
       "        -0.06688143,  0.0043238 ,  0.00669733,  0.03704259,  0.03704259,\n",
       "        -0.08869146, -0.02337623, -0.01915583, -0.00699119, -0.00699119]])"
      ]
     },
     "execution_count": 95,
     "metadata": {},
     "output_type": "execute_result"
    }
   ],
   "source": [
    "eigvec_U[:1,:20].real"
   ]
  },
  {
   "cell_type": "code",
   "execution_count": 96,
   "metadata": {},
   "outputs": [
    {
     "data": {
      "text/plain": [
       "array([[ 0.0020337 ,  0.09715631,  0.00371624,  0.00503492,  0.00402082,\n",
       "        -0.00427098,  0.08224438,  0.00272335, -0.01349167, -0.05632923,\n",
       "         0.06688143, -0.0043238 ,  0.00669733,  0.02080789, -0.00047901,\n",
       "         0.03596977, -0.00386774,  0.01024704, -0.03441978,  0.03571371]])"
      ]
     },
     "execution_count": 96,
     "metadata": {},
     "output_type": "execute_result"
    }
   ],
   "source": [
    "U[:1,:20]"
   ]
  },
  {
   "cell_type": "code",
   "execution_count": 99,
   "metadata": {},
   "outputs": [
    {
     "data": {
      "text/html": [
       "<div>\n",
       "<table border=\"1\" class=\"dataframe\">\n",
       "  <thead>\n",
       "    <tr style=\"text-align: right;\">\n",
       "      <th></th>\n",
       "      <th>AP2</th>\n",
       "      <th>DT1</th>\n",
       "      <th>DT2</th>\n",
       "      <th>HTM</th>\n",
       "      <th>LTM</th>\n",
       "      <th>AC1</th>\n",
       "      <th>AC2</th>\n",
       "      <th>LC1</th>\n",
       "      <th>LC2</th>\n",
       "      <th>RFL</th>\n",
       "      <th>RH1</th>\n",
       "      <th>RH2</th>\n",
       "      <th>WSD</th>\n",
       "    </tr>\n",
       "  </thead>\n",
       "  <tbody>\n",
       "    <tr>\n",
       "      <th>0</th>\n",
       "      <td>-0.583766</td>\n",
       "      <td>-1.512906</td>\n",
       "      <td>-0.933544</td>\n",
       "      <td>-0.783708</td>\n",
       "      <td>-1.652933</td>\n",
       "      <td>-1.059603</td>\n",
       "      <td>-0.965055</td>\n",
       "      <td>-0.806769</td>\n",
       "      <td>-0.679239</td>\n",
       "      <td>-0.068770</td>\n",
       "      <td>-0.563573</td>\n",
       "      <td>-0.778976</td>\n",
       "      <td>-1.050718</td>\n",
       "    </tr>\n",
       "    <tr>\n",
       "      <th>1</th>\n",
       "      <td>0.428577</td>\n",
       "      <td>1.691008</td>\n",
       "      <td>1.237144</td>\n",
       "      <td>1.068706</td>\n",
       "      <td>1.802544</td>\n",
       "      <td>1.040276</td>\n",
       "      <td>0.992377</td>\n",
       "      <td>0.755537</td>\n",
       "      <td>0.711288</td>\n",
       "      <td>0.163669</td>\n",
       "      <td>0.056233</td>\n",
       "      <td>0.290203</td>\n",
       "      <td>1.145250</td>\n",
       "    </tr>\n",
       "    <tr>\n",
       "      <th>2</th>\n",
       "      <td>-1.336435</td>\n",
       "      <td>-0.310638</td>\n",
       "      <td>-0.070051</td>\n",
       "      <td>-0.135345</td>\n",
       "      <td>-0.358761</td>\n",
       "      <td>-0.023878</td>\n",
       "      <td>0.263646</td>\n",
       "      <td>0.034614</td>\n",
       "      <td>0.449913</td>\n",
       "      <td>-0.098912</td>\n",
       "      <td>-1.271225</td>\n",
       "      <td>-0.950649</td>\n",
       "      <td>0.352447</td>\n",
       "    </tr>\n",
       "    <tr>\n",
       "      <th>3</th>\n",
       "      <td>1.142013</td>\n",
       "      <td>2.247499</td>\n",
       "      <td>1.224127</td>\n",
       "      <td>1.105194</td>\n",
       "      <td>2.464031</td>\n",
       "      <td>0.967417</td>\n",
       "      <td>0.808627</td>\n",
       "      <td>0.479990</td>\n",
       "      <td>0.302577</td>\n",
       "      <td>-0.297361</td>\n",
       "      <td>0.537710</td>\n",
       "      <td>1.390284</td>\n",
       "      <td>2.595334</td>\n",
       "    </tr>\n",
       "    <tr>\n",
       "      <th>4</th>\n",
       "      <td>-0.907205</td>\n",
       "      <td>-0.720747</td>\n",
       "      <td>-0.419445</td>\n",
       "      <td>-0.384340</td>\n",
       "      <td>-0.789713</td>\n",
       "      <td>-0.426345</td>\n",
       "      <td>-0.239951</td>\n",
       "      <td>-0.352594</td>\n",
       "      <td>-0.075031</td>\n",
       "      <td>0.078100</td>\n",
       "      <td>-1.114003</td>\n",
       "      <td>-0.833005</td>\n",
       "      <td>0.114606</td>\n",
       "    </tr>\n",
       "  </tbody>\n",
       "</table>\n",
       "</div>"
      ],
      "text/plain": [
       "        AP2       DT1       DT2       HTM       LTM       AC1       AC2  \\\n",
       "0 -0.583766 -1.512906 -0.933544 -0.783708 -1.652933 -1.059603 -0.965055   \n",
       "1  0.428577  1.691008  1.237144  1.068706  1.802544  1.040276  0.992377   \n",
       "2 -1.336435 -0.310638 -0.070051 -0.135345 -0.358761 -0.023878  0.263646   \n",
       "3  1.142013  2.247499  1.224127  1.105194  2.464031  0.967417  0.808627   \n",
       "4 -0.907205 -0.720747 -0.419445 -0.384340 -0.789713 -0.426345 -0.239951   \n",
       "\n",
       "        LC1       LC2       RFL       RH1       RH2       WSD  \n",
       "0 -0.806769 -0.679239 -0.068770 -0.563573 -0.778976 -1.050718  \n",
       "1  0.755537  0.711288  0.163669  0.056233  0.290203  1.145250  \n",
       "2  0.034614  0.449913 -0.098912 -1.271225 -0.950649  0.352447  \n",
       "3  0.479990  0.302577 -0.297361  0.537710  1.390284  2.595334  \n",
       "4 -0.352594 -0.075031  0.078100 -1.114003 -0.833005  0.114606  "
      ]
     },
     "execution_count": 99,
     "metadata": {},
     "output_type": "execute_result"
    }
   ],
   "source": [
    "X_label_Recon_m = (eigvec_U).dot(Sigma.dot(Vt_m))\n",
    "X_label_Recon_m = pd.DataFrame(X_label_Recon_m.real, columns = X_label.columns)\n",
    "X_label_Recon_m.head()"
   ]
  },
  {
   "cell_type": "code",
   "execution_count": 101,
   "metadata": {},
   "outputs": [
    {
     "data": {
      "text/html": [
       "<div>\n",
       "<table border=\"1\" class=\"dataframe\">\n",
       "  <thead>\n",
       "    <tr style=\"text-align: right;\">\n",
       "      <th></th>\n",
       "      <th>0</th>\n",
       "      <th>1</th>\n",
       "      <th>2</th>\n",
       "      <th>3</th>\n",
       "      <th>4</th>\n",
       "    </tr>\n",
       "  </thead>\n",
       "  <tbody>\n",
       "    <tr>\n",
       "      <th>0</th>\n",
       "      <td>-0.098637</td>\n",
       "      <td>3.466396</td>\n",
       "      <td>-0.090657</td>\n",
       "      <td>0.095351</td>\n",
       "      <td>-0.064083</td>\n",
       "    </tr>\n",
       "    <tr>\n",
       "      <th>1</th>\n",
       "      <td>0.522637</td>\n",
       "      <td>-3.537994</td>\n",
       "      <td>0.791520</td>\n",
       "      <td>0.039084</td>\n",
       "      <td>0.340500</td>\n",
       "    </tr>\n",
       "    <tr>\n",
       "      <th>2</th>\n",
       "      <td>-0.276852</td>\n",
       "      <td>0.772425</td>\n",
       "      <td>2.048505</td>\n",
       "      <td>0.078149</td>\n",
       "      <td>-0.293546</td>\n",
       "    </tr>\n",
       "    <tr>\n",
       "      <th>3</th>\n",
       "      <td>1.202745</td>\n",
       "      <td>-4.733389</td>\n",
       "      <td>-0.031446</td>\n",
       "      <td>-1.457069</td>\n",
       "      <td>-0.359363</td>\n",
       "    </tr>\n",
       "    <tr>\n",
       "      <th>4</th>\n",
       "      <td>-0.110755</td>\n",
       "      <td>1.706241</td>\n",
       "      <td>1.268189</td>\n",
       "      <td>-0.278659</td>\n",
       "      <td>-0.061246</td>\n",
       "    </tr>\n",
       "  </tbody>\n",
       "</table>\n",
       "</div>"
      ],
      "text/plain": [
       "          0         1         2         3         4\n",
       "0 -0.098637  3.466396 -0.090657  0.095351 -0.064083\n",
       "1  0.522637 -3.537994  0.791520  0.039084  0.340500\n",
       "2 -0.276852  0.772425  2.048505  0.078149 -0.293546\n",
       "3  1.202745 -4.733389 -0.031446 -1.457069 -0.359363\n",
       "4 -0.110755  1.706241  1.268189 -0.278659 -0.061246"
      ]
     },
     "execution_count": 101,
     "metadata": {},
     "output_type": "execute_result"
    }
   ],
   "source": [
    "X_label_Trans_m = X_label_Recon_m.dot(Vt_m.T)\n",
    "X_label_Trans_m.head()"
   ]
  },
  {
   "cell_type": "markdown",
   "metadata": {},
   "source": [
    "## SVD with SKlearn"
   ]
  },
  {
   "cell_type": "code",
   "execution_count": 65,
   "metadata": {},
   "outputs": [
    {
     "data": {
      "text/html": [
       "<div>\n",
       "<table border=\"1\" class=\"dataframe\">\n",
       "  <thead>\n",
       "    <tr style=\"text-align: right;\">\n",
       "      <th></th>\n",
       "      <th>0</th>\n",
       "      <th>1</th>\n",
       "      <th>2</th>\n",
       "      <th>3</th>\n",
       "      <th>4</th>\n",
       "    </tr>\n",
       "  </thead>\n",
       "  <tbody>\n",
       "    <tr>\n",
       "      <th>0</th>\n",
       "      <td>-0.098637</td>\n",
       "      <td>-3.466396</td>\n",
       "      <td>0.090657</td>\n",
       "      <td>0.095351</td>\n",
       "      <td>-0.064083</td>\n",
       "    </tr>\n",
       "    <tr>\n",
       "      <th>1</th>\n",
       "      <td>0.522637</td>\n",
       "      <td>3.537994</td>\n",
       "      <td>-0.791520</td>\n",
       "      <td>0.039084</td>\n",
       "      <td>0.340500</td>\n",
       "    </tr>\n",
       "    <tr>\n",
       "      <th>2</th>\n",
       "      <td>-0.276852</td>\n",
       "      <td>-0.772425</td>\n",
       "      <td>-2.048505</td>\n",
       "      <td>0.078149</td>\n",
       "      <td>-0.293546</td>\n",
       "    </tr>\n",
       "    <tr>\n",
       "      <th>3</th>\n",
       "      <td>1.202745</td>\n",
       "      <td>4.733389</td>\n",
       "      <td>0.031446</td>\n",
       "      <td>-1.457069</td>\n",
       "      <td>-0.359363</td>\n",
       "    </tr>\n",
       "    <tr>\n",
       "      <th>4</th>\n",
       "      <td>-0.110755</td>\n",
       "      <td>-1.706241</td>\n",
       "      <td>-1.268189</td>\n",
       "      <td>-0.278659</td>\n",
       "      <td>-0.061246</td>\n",
       "    </tr>\n",
       "  </tbody>\n",
       "</table>\n",
       "</div>"
      ],
      "text/plain": [
       "          0         1         2         3         4\n",
       "0 -0.098637 -3.466396  0.090657  0.095351 -0.064083\n",
       "1  0.522637  3.537994 -0.791520  0.039084  0.340500\n",
       "2 -0.276852 -0.772425 -2.048505  0.078149 -0.293546\n",
       "3  1.202745  4.733389  0.031446 -1.457069 -0.359363\n",
       "4 -0.110755 -1.706241 -1.268189 -0.278659 -0.061246"
      ]
     },
     "execution_count": 65,
     "metadata": {},
     "output_type": "execute_result"
    }
   ],
   "source": [
    "from sklearn.decomposition import TruncatedSVD\n",
    "\n",
    "svd = TruncatedSVD(n_components=5)\n",
    "svd.fit(X_label)\n",
    "result = svd.transform(X_label)\n",
    "result = pd.DataFrame(result)"
   ]
  },
  {
   "cell_type": "markdown",
   "metadata": {},
   "source": [
    "# The Results Compared"
   ]
  },
  {
   "cell_type": "code",
   "execution_count": 103,
   "metadata": {},
   "outputs": [
    {
     "data": {
      "text/html": [
       "<div>\n",
       "<table border=\"1\" class=\"dataframe\">\n",
       "  <thead>\n",
       "    <tr style=\"text-align: right;\">\n",
       "      <th></th>\n",
       "      <th>0</th>\n",
       "      <th>1</th>\n",
       "      <th>2</th>\n",
       "      <th>3</th>\n",
       "      <th>4</th>\n",
       "    </tr>\n",
       "  </thead>\n",
       "  <tbody>\n",
       "    <tr>\n",
       "      <th>0</th>\n",
       "      <td>-0.098637</td>\n",
       "      <td>-3.466396</td>\n",
       "      <td>0.090657</td>\n",
       "      <td>0.095351</td>\n",
       "      <td>-0.064083</td>\n",
       "    </tr>\n",
       "    <tr>\n",
       "      <th>1</th>\n",
       "      <td>0.522637</td>\n",
       "      <td>3.537994</td>\n",
       "      <td>-0.791520</td>\n",
       "      <td>0.039084</td>\n",
       "      <td>0.340500</td>\n",
       "    </tr>\n",
       "    <tr>\n",
       "      <th>2</th>\n",
       "      <td>-0.276852</td>\n",
       "      <td>-0.772425</td>\n",
       "      <td>-2.048505</td>\n",
       "      <td>0.078149</td>\n",
       "      <td>-0.293546</td>\n",
       "    </tr>\n",
       "    <tr>\n",
       "      <th>3</th>\n",
       "      <td>1.202745</td>\n",
       "      <td>4.733389</td>\n",
       "      <td>0.031446</td>\n",
       "      <td>-1.457069</td>\n",
       "      <td>-0.359363</td>\n",
       "    </tr>\n",
       "    <tr>\n",
       "      <th>4</th>\n",
       "      <td>-0.110755</td>\n",
       "      <td>-1.706241</td>\n",
       "      <td>-1.268189</td>\n",
       "      <td>-0.278659</td>\n",
       "      <td>-0.061246</td>\n",
       "    </tr>\n",
       "  </tbody>\n",
       "</table>\n",
       "</div>"
      ],
      "text/plain": [
       "          0         1         2         3         4\n",
       "0 -0.098637 -3.466396  0.090657  0.095351 -0.064083\n",
       "1  0.522637  3.537994 -0.791520  0.039084  0.340500\n",
       "2 -0.276852 -0.772425 -2.048505  0.078149 -0.293546\n",
       "3  1.202745  4.733389  0.031446 -1.457069 -0.359363\n",
       "4 -0.110755 -1.706241 -1.268189 -0.278659 -0.061246"
      ]
     },
     "execution_count": 103,
     "metadata": {},
     "output_type": "execute_result"
    }
   ],
   "source": [
    "result.head()   #This is TruncatedSVD sklearn lib result"
   ]
  },
  {
   "cell_type": "code",
   "execution_count": 66,
   "metadata": {},
   "outputs": [
    {
     "data": {
      "text/html": [
       "<div>\n",
       "<table border=\"1\" class=\"dataframe\">\n",
       "  <thead>\n",
       "    <tr style=\"text-align: right;\">\n",
       "      <th></th>\n",
       "      <th>0</th>\n",
       "      <th>1</th>\n",
       "      <th>2</th>\n",
       "      <th>3</th>\n",
       "      <th>4</th>\n",
       "    </tr>\n",
       "  </thead>\n",
       "  <tbody>\n",
       "    <tr>\n",
       "      <th>0</th>\n",
       "      <td>0.098637</td>\n",
       "      <td>3.466396</td>\n",
       "      <td>0.090657</td>\n",
       "      <td>0.095351</td>\n",
       "      <td>0.064083</td>\n",
       "    </tr>\n",
       "    <tr>\n",
       "      <th>1</th>\n",
       "      <td>-0.522637</td>\n",
       "      <td>-3.537994</td>\n",
       "      <td>-0.791520</td>\n",
       "      <td>0.039084</td>\n",
       "      <td>-0.340500</td>\n",
       "    </tr>\n",
       "    <tr>\n",
       "      <th>2</th>\n",
       "      <td>0.276852</td>\n",
       "      <td>0.772425</td>\n",
       "      <td>-2.048505</td>\n",
       "      <td>0.078149</td>\n",
       "      <td>0.293546</td>\n",
       "    </tr>\n",
       "    <tr>\n",
       "      <th>3</th>\n",
       "      <td>-1.202745</td>\n",
       "      <td>-4.733389</td>\n",
       "      <td>0.031446</td>\n",
       "      <td>-1.457069</td>\n",
       "      <td>0.359363</td>\n",
       "    </tr>\n",
       "    <tr>\n",
       "      <th>4</th>\n",
       "      <td>0.110755</td>\n",
       "      <td>1.706241</td>\n",
       "      <td>-1.268189</td>\n",
       "      <td>-0.278659</td>\n",
       "      <td>0.061246</td>\n",
       "    </tr>\n",
       "  </tbody>\n",
       "</table>\n",
       "</div>"
      ],
      "text/plain": [
       "          0         1         2         3         4\n",
       "0  0.098637  3.466396  0.090657  0.095351  0.064083\n",
       "1 -0.522637 -3.537994 -0.791520  0.039084 -0.340500\n",
       "2  0.276852  0.772425 -2.048505  0.078149  0.293546\n",
       "3 -1.202745 -4.733389  0.031446 -1.457069  0.359363\n",
       "4  0.110755  1.706241 -1.268189 -0.278659  0.061246"
      ]
     },
     "execution_count": 66,
     "metadata": {},
     "output_type": "execute_result"
    }
   ],
   "source": [
    "X_label_Transformed.head() #This is using numpy SVD "
   ]
  },
  {
   "cell_type": "code",
   "execution_count": 102,
   "metadata": {},
   "outputs": [
    {
     "data": {
      "text/html": [
       "<div>\n",
       "<table border=\"1\" class=\"dataframe\">\n",
       "  <thead>\n",
       "    <tr style=\"text-align: right;\">\n",
       "      <th></th>\n",
       "      <th>0</th>\n",
       "      <th>1</th>\n",
       "      <th>2</th>\n",
       "      <th>3</th>\n",
       "      <th>4</th>\n",
       "    </tr>\n",
       "  </thead>\n",
       "  <tbody>\n",
       "    <tr>\n",
       "      <th>0</th>\n",
       "      <td>-0.098637</td>\n",
       "      <td>3.466396</td>\n",
       "      <td>-0.090657</td>\n",
       "      <td>0.095351</td>\n",
       "      <td>-0.064083</td>\n",
       "    </tr>\n",
       "    <tr>\n",
       "      <th>1</th>\n",
       "      <td>0.522637</td>\n",
       "      <td>-3.537994</td>\n",
       "      <td>0.791520</td>\n",
       "      <td>0.039084</td>\n",
       "      <td>0.340500</td>\n",
       "    </tr>\n",
       "    <tr>\n",
       "      <th>2</th>\n",
       "      <td>-0.276852</td>\n",
       "      <td>0.772425</td>\n",
       "      <td>2.048505</td>\n",
       "      <td>0.078149</td>\n",
       "      <td>-0.293546</td>\n",
       "    </tr>\n",
       "    <tr>\n",
       "      <th>3</th>\n",
       "      <td>1.202745</td>\n",
       "      <td>-4.733389</td>\n",
       "      <td>-0.031446</td>\n",
       "      <td>-1.457069</td>\n",
       "      <td>-0.359363</td>\n",
       "    </tr>\n",
       "    <tr>\n",
       "      <th>4</th>\n",
       "      <td>-0.110755</td>\n",
       "      <td>1.706241</td>\n",
       "      <td>1.268189</td>\n",
       "      <td>-0.278659</td>\n",
       "      <td>-0.061246</td>\n",
       "    </tr>\n",
       "  </tbody>\n",
       "</table>\n",
       "</div>"
      ],
      "text/plain": [
       "          0         1         2         3         4\n",
       "0 -0.098637  3.466396 -0.090657  0.095351 -0.064083\n",
       "1  0.522637 -3.537994  0.791520  0.039084  0.340500\n",
       "2 -0.276852  0.772425  2.048505  0.078149 -0.293546\n",
       "3  1.202745 -4.733389 -0.031446 -1.457069 -0.359363\n",
       "4 -0.110755  1.706241  1.268189 -0.278659 -0.061246"
      ]
     },
     "execution_count": 102,
     "metadata": {},
     "output_type": "execute_result"
    }
   ],
   "source": [
    "X_label_Trans_m.head()    #This is a Complete Mathematical Approch"
   ]
  }
 ],
 "metadata": {
  "kernelspec": {
   "display_name": "Python 3",
   "language": "python",
   "name": "python3"
  },
  "language_info": {
   "codemirror_mode": {
    "name": "ipython",
    "version": 3
   },
   "file_extension": ".py",
   "mimetype": "text/x-python",
   "name": "python",
   "nbconvert_exporter": "python",
   "pygments_lexer": "ipython3",
   "version": "3.6.2"
  }
 },
 "nbformat": 4,
 "nbformat_minor": 2
}
